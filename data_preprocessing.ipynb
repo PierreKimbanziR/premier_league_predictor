{
 "cells": [
  {
   "cell_type": "markdown",
   "source": [
    "# Preprocessing of the dataset  \n",
    "\n",
    "## Steps :\n",
    "* Merging the differents datasets into one\n",
    "* Creating a date column\n",
    "* Removing column with 70% of null values\n",
    "* Transform dtypes numerical values"
   ],
   "metadata": {}
  },
  {
   "cell_type": "markdown",
   "source": [
    "### Merging the datasets\n",
    "Merge datasets from season 14-15 to 19-20. Season 20-21 will be kept as testing data so we leave it alone for the moment. "
   ],
   "metadata": {}
  },
  {
   "cell_type": "code",
   "execution_count": 11,
   "source": [
    "import os \n",
    "import pandas as pd\n",
    "\n",
    "\n",
    "path = \"assets/data/\"\n",
    "def merged_df():\n",
    "    \n",
    "    initial_file = \"PL_14-15.csv\"\n",
    "    initial_df = pd.read_csv(path+initial_file)\n",
    "    files_to_append = [f for f in os.listdir(path) if f != initial_file]\n",
    "    for f in files_to_append:\n",
    "        df = pd.read_csv(path+f)\n",
    "        initial_df = initial_df.append(df)\n",
    "    return initial_df\n",
    "df = merged_df()"
   ],
   "outputs": [],
   "metadata": {}
  },
  {
   "cell_type": "markdown",
   "source": [
    "## Creating a date column"
   ],
   "metadata": {}
  },
  {
   "cell_type": "code",
   "execution_count": 18,
   "source": [
    "df[\"Date\"] = pd.to_datetime(df[\"Date\"])"
   ],
   "outputs": [],
   "metadata": {}
  },
  {
   "cell_type": "markdown",
   "source": [
    "## Removing column with 70% of null values"
   ],
   "metadata": {}
  },
  {
   "cell_type": "code",
   "execution_count": 28,
   "source": [
    "df.isnull().mean() *100 "
   ],
   "outputs": [
    {
     "output_type": "execute_result",
     "data": {
      "text/plain": [
       "Div          0.04384\n",
       "Date         0.04384\n",
       "HomeTeam     0.04384\n",
       "AwayTeam     0.04384\n",
       "FTHG         0.04384\n",
       "              ...   \n",
       "PCAHA       83.34064\n",
       "MaxCAHH     83.34064\n",
       "MaxCAHA     83.34064\n",
       "AvgCAHH     83.34064\n",
       "AvgCAHA     83.34064\n",
       "Length: 130, dtype: float64"
      ]
     },
     "metadata": {},
     "execution_count": 28
    }
   ],
   "metadata": {}
  },
  {
   "cell_type": "code",
   "execution_count": null,
   "source": [],
   "outputs": [],
   "metadata": {}
  }
 ],
 "metadata": {
  "orig_nbformat": 4,
  "language_info": {
   "name": "python",
   "version": "3.8.10",
   "mimetype": "text/x-python",
   "codemirror_mode": {
    "name": "ipython",
    "version": 3
   },
   "pygments_lexer": "ipython3",
   "nbconvert_exporter": "python",
   "file_extension": ".py"
  },
  "kernelspec": {
   "name": "python3",
   "display_name": "Python 3.8.10 64-bit ('premier_league': venv)"
  },
  "interpreter": {
   "hash": "4c345db352e38550979c7c30640beff657515c98a6e50b2135129104abaf76a5"
  }
 },
 "nbformat": 4,
 "nbformat_minor": 2
}