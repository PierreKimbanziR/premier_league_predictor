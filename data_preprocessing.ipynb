{
 "cells": [
  {
   "cell_type": "markdown",
   "source": [
    "# Preprocessing of the dataset  \n",
    "\n",
    "## Steps :\n",
    "* Merging the differents datasets into one\n",
    "* Creating a date column\n",
    "* Removing column with 70% of null values\n",
    "* Creating numerical value for the full time result"
   ],
   "metadata": {}
  },
  {
   "cell_type": "markdown",
   "source": [
    "### Merging the datasets\n",
    "Merge datasets from season 14-15 to 19-20. Season 20-21 will be kept as testing data so we leave it alone for the moment. "
   ],
   "metadata": {}
  },
  {
   "cell_type": "code",
   "execution_count": 1,
   "source": [
    "import os \n",
    "import pandas as pd\n",
    "\n",
    "\n",
    "path = \"assets/data/\"\n",
    "def merged_df():\n",
    "    \n",
    "    initial_file = \"PL_14-15.csv\"\n",
    "    initial_df = pd.read_csv(path+initial_file)\n",
    "    files_to_append = [f for f in os.listdir(path) if f != initial_file]\n",
    "    for f in files_to_append:\n",
    "        df = pd.read_csv(path+f)\n",
    "        initial_df = initial_df.append(df)\n",
    "    return initial_df\n",
    "df = merged_df()"
   ],
   "outputs": [],
   "metadata": {}
  },
  {
   "cell_type": "markdown",
   "source": [
    "## Creating a date column"
   ],
   "metadata": {}
  },
  {
   "cell_type": "code",
   "execution_count": 2,
   "source": [
    "df[\"Date\"] = pd.to_datetime(df[\"Date\"])"
   ],
   "outputs": [],
   "metadata": {}
  },
  {
   "cell_type": "code",
   "execution_count": 5,
   "source": [
    "df.isnull().mean() *100"
   ],
   "outputs": [
    {
     "output_type": "execute_result",
     "data": {
      "text/plain": [
       "Div          0.04384\n",
       "Date         0.04384\n",
       "HomeTeam     0.04384\n",
       "AwayTeam     0.04384\n",
       "FTHG         0.04384\n",
       "              ...   \n",
       "PCAHA       83.34064\n",
       "MaxCAHH     83.34064\n",
       "MaxCAHA     83.34064\n",
       "AvgCAHH     83.34064\n",
       "AvgCAHA     83.34064\n",
       "Length: 130, dtype: float64"
      ]
     },
     "metadata": {},
     "execution_count": 5
    }
   ],
   "metadata": {}
  },
  {
   "cell_type": "markdown",
   "source": [
    "## Removing column with 70% of null values"
   ],
   "metadata": {}
  },
  {
   "cell_type": "code",
   "execution_count": 13,
   "source": [
    "columns_to_drop = [col for col in df.columns if df[col].isnull().mean() *100 > 75 ]\n",
    "df.drop(columns_to_drop, axis=1, inplace= True)"
   ],
   "outputs": [],
   "metadata": {}
  },
  {
   "cell_type": "markdown",
   "source": [
    "## creatiing numerical value for the full time result. \n",
    "The full time result (FTR) column is a string but in order to process it later we need to encode it as a numerical value. "
   ],
   "metadata": {}
  },
  {
   "cell_type": "code",
   "execution_count": 27,
   "source": [
    "def numerize_ftr_htr(ftr):\n",
    "    if ftr == \"D\":\n",
    "        return 0\n",
    "    elif ftr == \"A\":\n",
    "        return 2\n",
    "    elif ftr == \"H\":\n",
    "        return 1\n",
    "    else :\n",
    "        return None\n",
    "df[\"Numerical_htr\"] = df[\"HTR\"].apply(numerize_ftr_htr)\n",
    "df[\"Numerical_ftr\"] = df[\"FTR\"].apply(numerize_ftr_htr)"
   ],
   "outputs": [],
   "metadata": {}
  },
  {
   "cell_type": "code",
   "execution_count": 31,
   "source": [
    "corr"
   ],
   "outputs": [
    {
     "output_type": "execute_result",
     "data": {
      "text/plain": [
       "               Numerical_ftr  Numerical_htr\n",
       "Numerical_ftr       1.000000       0.325398\n",
       "Numerical_htr       0.325398       1.000000"
      ],
      "text/html": [
       "<div>\n",
       "<style scoped>\n",
       "    .dataframe tbody tr th:only-of-type {\n",
       "        vertical-align: middle;\n",
       "    }\n",
       "\n",
       "    .dataframe tbody tr th {\n",
       "        vertical-align: top;\n",
       "    }\n",
       "\n",
       "    .dataframe thead th {\n",
       "        text-align: right;\n",
       "    }\n",
       "</style>\n",
       "<table border=\"1\" class=\"dataframe\">\n",
       "  <thead>\n",
       "    <tr style=\"text-align: right;\">\n",
       "      <th></th>\n",
       "      <th>Numerical_ftr</th>\n",
       "      <th>Numerical_htr</th>\n",
       "    </tr>\n",
       "  </thead>\n",
       "  <tbody>\n",
       "    <tr>\n",
       "      <th>Numerical_ftr</th>\n",
       "      <td>1.000000</td>\n",
       "      <td>0.325398</td>\n",
       "    </tr>\n",
       "    <tr>\n",
       "      <th>Numerical_htr</th>\n",
       "      <td>0.325398</td>\n",
       "      <td>1.000000</td>\n",
       "    </tr>\n",
       "  </tbody>\n",
       "</table>\n",
       "</div>"
      ]
     },
     "metadata": {},
     "execution_count": 31
    }
   ],
   "metadata": {}
  },
  {
   "cell_type": "code",
   "execution_count": null,
   "source": [],
   "outputs": [],
   "metadata": {}
  }
 ],
 "metadata": {
  "orig_nbformat": 4,
  "language_info": {
   "name": "python",
   "version": "3.8.10",
   "mimetype": "text/x-python",
   "codemirror_mode": {
    "name": "ipython",
    "version": 3
   },
   "pygments_lexer": "ipython3",
   "nbconvert_exporter": "python",
   "file_extension": ".py"
  },
  "kernelspec": {
   "name": "python3",
   "display_name": "Python 3.8.10 64-bit ('premier_league': venv)"
  },
  "interpreter": {
   "hash": "4c345db352e38550979c7c30640beff657515c98a6e50b2135129104abaf76a5"
  }
 },
 "nbformat": 4,
 "nbformat_minor": 2
}