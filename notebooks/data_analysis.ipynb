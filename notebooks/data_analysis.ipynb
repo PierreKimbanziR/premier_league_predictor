{
 "cells": [
  {
   "cell_type": "markdown",
   "source": [
    "# Data analysis. \n",
    "In this notebook I will collect information about the seasons 14-15 to 19-20 combined.  \n",
    "I will answer those questions : \n",
    "* Which 5 teams won the most games overall ? \n",
    "* Which 5 teams lost the most games overall ? \n",
    "* Which 5 teams won the most games away \n",
    "* which 5 teams won the most games at home ? \n",
    "* Which 5 teams lost the most games away ? \n",
    "* Which 5 teams lost the most games at home ?\n",
    "* Overall percentage of home wins ? \n",
    "* Overall percentage of away wins ? \n",
    "* Overall percentage of home losses ? \n",
    "* Overall percentage of away losses ? \n",
    "* Correlation between playing at home and winning the game ? \n",
    "* Correlation between playing away and winning the game ? \n",
    "\n"
   ],
   "metadata": {}
  },
  {
   "cell_type": "markdown",
   "source": [
    "## Import datasets and libraries"
   ],
   "metadata": {}
  },
  {
   "cell_type": "code",
   "execution_count": 13,
   "source": [
    "import pandas as pd\n",
    "import numpy as np\n",
    "import seaborn as sns"
   ],
   "outputs": [],
   "metadata": {}
  },
  {
   "cell_type": "code",
   "execution_count": 14,
   "source": [
    "df = pd.read_csv(\"../assets/data/clean_data.csv\")\n",
    "df.drop(\"Unnamed: 0\", inplace=True, axis=1)"
   ],
   "outputs": [],
   "metadata": {}
  },
  {
   "cell_type": "markdown",
   "source": [
    "## Which 5 teams won or lost the most games ? Away ? Home ? "
   ],
   "metadata": {}
  },
  {
   "cell_type": "markdown",
   "source": [
    "#### Feature engineering\n",
    "Creation of new columns to easily count the losses and wins of each teams."
   ],
   "metadata": {}
  },
  {
   "cell_type": "markdown",
   "source": [
    "##### Creation of a full time winner column"
   ],
   "metadata": {}
  },
  {
   "cell_type": "code",
   "execution_count": 44,
   "source": [
    "def get_winner(ftr):\n",
    "    if ftr.item() == \"H\":\n",
    "        return df[\"HomeTeam\"].iloc[ftr.name]\n",
    "    elif ftr.item() == \"A\":\n",
    "        return df[\"AwayTeam\"].iloc[ftr.name]\n",
    "    else :\n",
    "        return \"Draw\"\n",
    "df[\"ftr_winner\"] = df[[\"FTR\"]].apply(get_winner, axis=1)"
   ],
   "outputs": [],
   "metadata": {}
  },
  {
   "cell_type": "markdown",
   "source": [
    "##### Creation of a full time looser column"
   ],
   "metadata": {}
  },
  {
   "cell_type": "code",
   "execution_count": 48,
   "source": [
    "def get_looser(ftr):\n",
    "    if ftr.item() == \"H\":\n",
    "        return df[\"AwayTeam\"].iloc[ftr.name]\n",
    "    elif ftr.item() == \"A\":\n",
    "        return df[\"HomeTeam\"].iloc[ftr.name]\n",
    "    else :\n",
    "        return \"Draw\"\n",
    "df[\"ftr_looser\"] = df[[\"FTR\"]].apply(get_looser, axis=1)"
   ],
   "outputs": [],
   "metadata": {}
  },
  {
   "cell_type": "markdown",
   "source": [
    "#### Value count "
   ],
   "metadata": {}
  },
  {
   "cell_type": "markdown",
   "source": [
    "##### Most wins overall"
   ],
   "metadata": {}
  },
  {
   "cell_type": "code",
   "execution_count": 56,
   "source": [
    "most_wins = df[\"ftr_winner\"].value_counts(sort=True)\n",
    "most_wins.head(6)"
   ],
   "outputs": [
    {
     "output_type": "execute_result",
     "data": {
      "text/plain": [
       "Draw         547\n",
       "Man City     156\n",
       "Liverpool    139\n",
       "Chelsea      130\n",
       "Tottenham    126\n",
       "Arsenal      119\n",
       "Name: ftr_winner, dtype: int64"
      ]
     },
     "metadata": {},
     "execution_count": 56
    }
   ],
   "metadata": {}
  },
  {
   "cell_type": "markdown",
   "source": [
    "##### Most losses overall "
   ],
   "metadata": {}
  },
  {
   "cell_type": "code",
   "execution_count": 58,
   "source": [
    "most_losses = df[\"ftr_looser\"].value_counts(sort=True)\n",
    "most_losses.head(6)"
   ],
   "outputs": [
    {
     "output_type": "execute_result",
     "data": {
      "text/plain": [
       "Draw              547\n",
       "Crystal Palace    105\n",
       "Watford            92\n",
       "West Ham           91\n",
       "Bournemouth        91\n",
       "Southampton        90\n",
       "Name: ftr_looser, dtype: int64"
      ]
     },
     "metadata": {},
     "execution_count": 58
    }
   ],
   "metadata": {}
  },
  {
   "cell_type": "markdown",
   "source": [
    "##### Most home wins "
   ],
   "metadata": {}
  },
  {
   "cell_type": "code",
   "execution_count": 62,
   "source": [
    "home_wins = df.loc[df[\"FTR\"]== \"H\"]\n",
    "most_home_wins = home_wins[\"ftr_winner\"].value_counts(sort=True)\n",
    "most_home_wins.head(5)"
   ],
   "outputs": [
    {
     "output_type": "execute_result",
     "data": {
      "text/plain": [
       "Man City     86\n",
       "Arsenal      77\n",
       "Liverpool    77\n",
       "Tottenham    74\n",
       "Chelsea      71\n",
       "Name: ftr_winner, dtype: int64"
      ]
     },
     "metadata": {},
     "execution_count": 62
    }
   ],
   "metadata": {}
  },
  {
   "cell_type": "markdown",
   "source": [
    "##### Most away wins"
   ],
   "metadata": {}
  },
  {
   "cell_type": "code",
   "execution_count": 70,
   "source": [
    "away_wins = df.loc[df[\"FTR\"]== \"A\"]\n",
    "most_away_wins = away_wins[\"AwayTeam\"].value_counts(sort=True)\n",
    "most_away_wins.head(5)"
   ],
   "outputs": [
    {
     "output_type": "execute_result",
     "data": {
      "text/plain": [
       "Man City      70\n",
       "Liverpool     62\n",
       "Chelsea       59\n",
       "Tottenham     52\n",
       "Man United    50\n",
       "Name: AwayTeam, dtype: int64"
      ]
     },
     "metadata": {},
     "execution_count": 70
    }
   ],
   "metadata": {}
  },
  {
   "cell_type": "markdown",
   "source": [
    "##### Most home losses"
   ],
   "metadata": {}
  },
  {
   "cell_type": "code",
   "execution_count": 73,
   "source": [
    "home_losses = df.loc[df[\"FTR\"] == \"A\"]\n",
    "most_home_losses = home_losses[\"HomeTeam\"].value_counts(sort=True)\n",
    "most_home_losses.head(5)"
   ],
   "outputs": [
    {
     "output_type": "execute_result",
     "data": {
      "text/plain": [
       "Crystal Palace    55\n",
       "Southampton       40\n",
       "West Ham          38\n",
       "Burnley           38\n",
       "Bournemouth       36\n",
       "Name: HomeTeam, dtype: int64"
      ]
     },
     "metadata": {},
     "execution_count": 73
    }
   ],
   "metadata": {}
  },
  {
   "cell_type": "markdown",
   "source": [
    "##### Most away losses "
   ],
   "metadata": {}
  },
  {
   "cell_type": "code",
   "execution_count": 75,
   "source": [
    "away_losses = df.loc[df[\"FTR\"] == \"H\"]\n",
    "most_away_losses = away_losses[\"AwayTeam\"].value_counts(sort=True)\n",
    "most_away_losses.head(5)"
   ],
   "outputs": [
    {
     "output_type": "execute_result",
     "data": {
      "text/plain": [
       "Watford        57\n",
       "Newcastle      55\n",
       "Bournemouth    55\n",
       "Everton        54\n",
       "West Ham       53\n",
       "Name: AwayTeam, dtype: int64"
      ]
     },
     "metadata": {},
     "execution_count": 75
    }
   ],
   "metadata": {}
  },
  {
   "cell_type": "markdown",
   "source": [
    "## Overall percentage home wins, away wins, home losses, away losses"
   ],
   "metadata": {}
  },
  {
   "cell_type": "markdown",
   "source": [
    "##### Percentage of home wins and away wins"
   ],
   "metadata": {}
  },
  {
   "cell_type": "code",
   "execution_count": 83,
   "source": [
    "percentages = df[\"FTR\"].value_counts(normalize=True) *100\n",
    "percentages = percentages.to_frame()\n",
    "percentages"
   ],
   "outputs": [
    {
     "output_type": "execute_result",
     "data": {
      "text/plain": [
       "         FTR\n",
       "H  45.701754\n",
       "A  30.350877\n",
       "D  23.947368"
      ],
      "text/html": [
       "<div>\n",
       "<style scoped>\n",
       "    .dataframe tbody tr th:only-of-type {\n",
       "        vertical-align: middle;\n",
       "    }\n",
       "\n",
       "    .dataframe tbody tr th {\n",
       "        vertical-align: top;\n",
       "    }\n",
       "\n",
       "    .dataframe thead th {\n",
       "        text-align: right;\n",
       "    }\n",
       "</style>\n",
       "<table border=\"1\" class=\"dataframe\">\n",
       "  <thead>\n",
       "    <tr style=\"text-align: right;\">\n",
       "      <th></th>\n",
       "      <th>FTR</th>\n",
       "    </tr>\n",
       "  </thead>\n",
       "  <tbody>\n",
       "    <tr>\n",
       "      <th>H</th>\n",
       "      <td>45.701754</td>\n",
       "    </tr>\n",
       "    <tr>\n",
       "      <th>A</th>\n",
       "      <td>30.350877</td>\n",
       "    </tr>\n",
       "    <tr>\n",
       "      <th>D</th>\n",
       "      <td>23.947368</td>\n",
       "    </tr>\n",
       "  </tbody>\n",
       "</table>\n",
       "</div>"
      ]
     },
     "metadata": {},
     "execution_count": 83
    }
   ],
   "metadata": {}
  },
  {
   "cell_type": "markdown",
   "source": [
    "Home wins percentage  : 45.70 %.   \n",
    "\n",
    "Away win percentage : 30.35 %.   \n",
    "\n",
    "The percentages for the home losses and away losses are the same but inverted obviously.  \n",
    "\n",
    "Away losses percentage : 45.70%.  \n",
    "\n",
    "Home losses  percentage : 30.35%"
   ],
   "metadata": {}
  },
  {
   "cell_type": "markdown",
   "source": [
    "## Wins or losses when trailing or leading at half time"
   ],
   "metadata": {}
  },
  {
   "cell_type": "code",
   "execution_count": 95,
   "source": [
    "home_wins_when_leading = home_wins.loc[home_wins[\"HTR\"] == home_wins[\"FTR\"]]"
   ],
   "outputs": [],
   "metadata": {}
  },
  {
   "cell_type": "code",
   "execution_count": 98,
   "source": [
    "home_wins_when_leading"
   ],
   "outputs": [
    {
     "output_type": "execute_result",
     "data": {
      "text/plain": [
       "     Div        Date        HomeTeam      AwayTeam  FTHG  FTAG FTR  HTHG  \\\n",
       "7     E0  2014-08-17       Liverpool   Southampton   2.0   1.0   H   1.0   \n",
       "15    E0  2014-08-23         Swansea       Burnley   1.0   0.0   H   1.0   \n",
       "18    E0  2014-08-24       Tottenham           QPR   4.0   0.0   H   3.0   \n",
       "19    E0  2014-08-25        Man City     Liverpool   3.0   1.0   H   1.0   \n",
       "24    E0  2014-08-30             QPR    Sunderland   1.0   0.0   H   1.0   \n",
       "...   ..         ...             ...           ...   ...   ...  ..   ...   \n",
       "2251  E0  2019-04-26       Liverpool  Huddersfield   5.0   0.0   H   3.0   \n",
       "2261  E0  2019-03-05         Everton       Burnley   2.0   0.0   H   2.0   \n",
       "2265  E0  2019-04-05        West Ham   Southampton   3.0   0.0   H   1.0   \n",
       "2273  E0  2019-12-05  Crystal Palace   Bournemouth   5.0   3.0   H   3.0   \n",
       "2276  E0  2019-12-05       Liverpool        Wolves   2.0   0.0   H   1.0   \n",
       "\n",
       "      HTAG HTR  ... BbAvAHH  BbMxAHA  BbAvAHA  PSCH   PSCD   PSCA  \\\n",
       "7      0.0   H  ...    2.00     1.94     1.87  1.43   4.83   8.75   \n",
       "15     0.0   H  ...    2.09     1.87     1.79  1.68   3.89   5.99   \n",
       "18     0.0   H  ...    1.81     2.20     2.07  1.61   4.20   6.18   \n",
       "19     0.0   H  ...    2.06     1.88     1.83  1.85   4.01   4.35   \n",
       "24     0.0   H  ...    2.06     1.85     1.82  2.56   3.28   3.05   \n",
       "...    ...  ..  ...     ...      ...      ...   ...    ...    ...   \n",
       "2251   0.0   H  ...    1.89     2.02     1.97  1.08  14.10  34.97   \n",
       "2261   0.0   H  ...    2.16     1.80     1.75  1.71   3.85   5.56   \n",
       "2265   0.0   H  ...    2.29     1.73     1.66  2.40   3.69   3.00   \n",
       "2273   1.0   H  ...    2.52     1.60     1.54  1.79   4.40   4.16   \n",
       "2276   0.0   H  ...    1.91     2.01     1.95  1.32   5.89   9.48   \n",
       "\n",
       "      Numerical_ftr  Numerical_htr      ftr_winner    ftr_looser  \n",
       "7               1.0            1.0       Liverpool   Southampton  \n",
       "15              1.0            1.0         Swansea       Burnley  \n",
       "18              1.0            1.0       Tottenham           QPR  \n",
       "19              1.0            1.0        Man City     Liverpool  \n",
       "24              1.0            1.0             QPR    Sunderland  \n",
       "...             ...            ...             ...           ...  \n",
       "2251            1.0            1.0       Liverpool  Huddersfield  \n",
       "2261            1.0            1.0         Everton       Burnley  \n",
       "2265            1.0            1.0        West Ham   Southampton  \n",
       "2273            1.0            1.0  Crystal Palace   Bournemouth  \n",
       "2276            1.0            1.0       Liverpool        Wolves  \n",
       "\n",
       "[633 rows x 69 columns]"
      ],
      "text/html": [
       "<div>\n",
       "<style scoped>\n",
       "    .dataframe tbody tr th:only-of-type {\n",
       "        vertical-align: middle;\n",
       "    }\n",
       "\n",
       "    .dataframe tbody tr th {\n",
       "        vertical-align: top;\n",
       "    }\n",
       "\n",
       "    .dataframe thead th {\n",
       "        text-align: right;\n",
       "    }\n",
       "</style>\n",
       "<table border=\"1\" class=\"dataframe\">\n",
       "  <thead>\n",
       "    <tr style=\"text-align: right;\">\n",
       "      <th></th>\n",
       "      <th>Div</th>\n",
       "      <th>Date</th>\n",
       "      <th>HomeTeam</th>\n",
       "      <th>AwayTeam</th>\n",
       "      <th>FTHG</th>\n",
       "      <th>FTAG</th>\n",
       "      <th>FTR</th>\n",
       "      <th>HTHG</th>\n",
       "      <th>HTAG</th>\n",
       "      <th>HTR</th>\n",
       "      <th>...</th>\n",
       "      <th>BbAvAHH</th>\n",
       "      <th>BbMxAHA</th>\n",
       "      <th>BbAvAHA</th>\n",
       "      <th>PSCH</th>\n",
       "      <th>PSCD</th>\n",
       "      <th>PSCA</th>\n",
       "      <th>Numerical_ftr</th>\n",
       "      <th>Numerical_htr</th>\n",
       "      <th>ftr_winner</th>\n",
       "      <th>ftr_looser</th>\n",
       "    </tr>\n",
       "  </thead>\n",
       "  <tbody>\n",
       "    <tr>\n",
       "      <th>7</th>\n",
       "      <td>E0</td>\n",
       "      <td>2014-08-17</td>\n",
       "      <td>Liverpool</td>\n",
       "      <td>Southampton</td>\n",
       "      <td>2.0</td>\n",
       "      <td>1.0</td>\n",
       "      <td>H</td>\n",
       "      <td>1.0</td>\n",
       "      <td>0.0</td>\n",
       "      <td>H</td>\n",
       "      <td>...</td>\n",
       "      <td>2.00</td>\n",
       "      <td>1.94</td>\n",
       "      <td>1.87</td>\n",
       "      <td>1.43</td>\n",
       "      <td>4.83</td>\n",
       "      <td>8.75</td>\n",
       "      <td>1.0</td>\n",
       "      <td>1.0</td>\n",
       "      <td>Liverpool</td>\n",
       "      <td>Southampton</td>\n",
       "    </tr>\n",
       "    <tr>\n",
       "      <th>15</th>\n",
       "      <td>E0</td>\n",
       "      <td>2014-08-23</td>\n",
       "      <td>Swansea</td>\n",
       "      <td>Burnley</td>\n",
       "      <td>1.0</td>\n",
       "      <td>0.0</td>\n",
       "      <td>H</td>\n",
       "      <td>1.0</td>\n",
       "      <td>0.0</td>\n",
       "      <td>H</td>\n",
       "      <td>...</td>\n",
       "      <td>2.09</td>\n",
       "      <td>1.87</td>\n",
       "      <td>1.79</td>\n",
       "      <td>1.68</td>\n",
       "      <td>3.89</td>\n",
       "      <td>5.99</td>\n",
       "      <td>1.0</td>\n",
       "      <td>1.0</td>\n",
       "      <td>Swansea</td>\n",
       "      <td>Burnley</td>\n",
       "    </tr>\n",
       "    <tr>\n",
       "      <th>18</th>\n",
       "      <td>E0</td>\n",
       "      <td>2014-08-24</td>\n",
       "      <td>Tottenham</td>\n",
       "      <td>QPR</td>\n",
       "      <td>4.0</td>\n",
       "      <td>0.0</td>\n",
       "      <td>H</td>\n",
       "      <td>3.0</td>\n",
       "      <td>0.0</td>\n",
       "      <td>H</td>\n",
       "      <td>...</td>\n",
       "      <td>1.81</td>\n",
       "      <td>2.20</td>\n",
       "      <td>2.07</td>\n",
       "      <td>1.61</td>\n",
       "      <td>4.20</td>\n",
       "      <td>6.18</td>\n",
       "      <td>1.0</td>\n",
       "      <td>1.0</td>\n",
       "      <td>Tottenham</td>\n",
       "      <td>QPR</td>\n",
       "    </tr>\n",
       "    <tr>\n",
       "      <th>19</th>\n",
       "      <td>E0</td>\n",
       "      <td>2014-08-25</td>\n",
       "      <td>Man City</td>\n",
       "      <td>Liverpool</td>\n",
       "      <td>3.0</td>\n",
       "      <td>1.0</td>\n",
       "      <td>H</td>\n",
       "      <td>1.0</td>\n",
       "      <td>0.0</td>\n",
       "      <td>H</td>\n",
       "      <td>...</td>\n",
       "      <td>2.06</td>\n",
       "      <td>1.88</td>\n",
       "      <td>1.83</td>\n",
       "      <td>1.85</td>\n",
       "      <td>4.01</td>\n",
       "      <td>4.35</td>\n",
       "      <td>1.0</td>\n",
       "      <td>1.0</td>\n",
       "      <td>Man City</td>\n",
       "      <td>Liverpool</td>\n",
       "    </tr>\n",
       "    <tr>\n",
       "      <th>24</th>\n",
       "      <td>E0</td>\n",
       "      <td>2014-08-30</td>\n",
       "      <td>QPR</td>\n",
       "      <td>Sunderland</td>\n",
       "      <td>1.0</td>\n",
       "      <td>0.0</td>\n",
       "      <td>H</td>\n",
       "      <td>1.0</td>\n",
       "      <td>0.0</td>\n",
       "      <td>H</td>\n",
       "      <td>...</td>\n",
       "      <td>2.06</td>\n",
       "      <td>1.85</td>\n",
       "      <td>1.82</td>\n",
       "      <td>2.56</td>\n",
       "      <td>3.28</td>\n",
       "      <td>3.05</td>\n",
       "      <td>1.0</td>\n",
       "      <td>1.0</td>\n",
       "      <td>QPR</td>\n",
       "      <td>Sunderland</td>\n",
       "    </tr>\n",
       "    <tr>\n",
       "      <th>...</th>\n",
       "      <td>...</td>\n",
       "      <td>...</td>\n",
       "      <td>...</td>\n",
       "      <td>...</td>\n",
       "      <td>...</td>\n",
       "      <td>...</td>\n",
       "      <td>...</td>\n",
       "      <td>...</td>\n",
       "      <td>...</td>\n",
       "      <td>...</td>\n",
       "      <td>...</td>\n",
       "      <td>...</td>\n",
       "      <td>...</td>\n",
       "      <td>...</td>\n",
       "      <td>...</td>\n",
       "      <td>...</td>\n",
       "      <td>...</td>\n",
       "      <td>...</td>\n",
       "      <td>...</td>\n",
       "      <td>...</td>\n",
       "      <td>...</td>\n",
       "    </tr>\n",
       "    <tr>\n",
       "      <th>2251</th>\n",
       "      <td>E0</td>\n",
       "      <td>2019-04-26</td>\n",
       "      <td>Liverpool</td>\n",
       "      <td>Huddersfield</td>\n",
       "      <td>5.0</td>\n",
       "      <td>0.0</td>\n",
       "      <td>H</td>\n",
       "      <td>3.0</td>\n",
       "      <td>0.0</td>\n",
       "      <td>H</td>\n",
       "      <td>...</td>\n",
       "      <td>1.89</td>\n",
       "      <td>2.02</td>\n",
       "      <td>1.97</td>\n",
       "      <td>1.08</td>\n",
       "      <td>14.10</td>\n",
       "      <td>34.97</td>\n",
       "      <td>1.0</td>\n",
       "      <td>1.0</td>\n",
       "      <td>Liverpool</td>\n",
       "      <td>Huddersfield</td>\n",
       "    </tr>\n",
       "    <tr>\n",
       "      <th>2261</th>\n",
       "      <td>E0</td>\n",
       "      <td>2019-03-05</td>\n",
       "      <td>Everton</td>\n",
       "      <td>Burnley</td>\n",
       "      <td>2.0</td>\n",
       "      <td>0.0</td>\n",
       "      <td>H</td>\n",
       "      <td>2.0</td>\n",
       "      <td>0.0</td>\n",
       "      <td>H</td>\n",
       "      <td>...</td>\n",
       "      <td>2.16</td>\n",
       "      <td>1.80</td>\n",
       "      <td>1.75</td>\n",
       "      <td>1.71</td>\n",
       "      <td>3.85</td>\n",
       "      <td>5.56</td>\n",
       "      <td>1.0</td>\n",
       "      <td>1.0</td>\n",
       "      <td>Everton</td>\n",
       "      <td>Burnley</td>\n",
       "    </tr>\n",
       "    <tr>\n",
       "      <th>2265</th>\n",
       "      <td>E0</td>\n",
       "      <td>2019-04-05</td>\n",
       "      <td>West Ham</td>\n",
       "      <td>Southampton</td>\n",
       "      <td>3.0</td>\n",
       "      <td>0.0</td>\n",
       "      <td>H</td>\n",
       "      <td>1.0</td>\n",
       "      <td>0.0</td>\n",
       "      <td>H</td>\n",
       "      <td>...</td>\n",
       "      <td>2.29</td>\n",
       "      <td>1.73</td>\n",
       "      <td>1.66</td>\n",
       "      <td>2.40</td>\n",
       "      <td>3.69</td>\n",
       "      <td>3.00</td>\n",
       "      <td>1.0</td>\n",
       "      <td>1.0</td>\n",
       "      <td>West Ham</td>\n",
       "      <td>Southampton</td>\n",
       "    </tr>\n",
       "    <tr>\n",
       "      <th>2273</th>\n",
       "      <td>E0</td>\n",
       "      <td>2019-12-05</td>\n",
       "      <td>Crystal Palace</td>\n",
       "      <td>Bournemouth</td>\n",
       "      <td>5.0</td>\n",
       "      <td>3.0</td>\n",
       "      <td>H</td>\n",
       "      <td>3.0</td>\n",
       "      <td>1.0</td>\n",
       "      <td>H</td>\n",
       "      <td>...</td>\n",
       "      <td>2.52</td>\n",
       "      <td>1.60</td>\n",
       "      <td>1.54</td>\n",
       "      <td>1.79</td>\n",
       "      <td>4.40</td>\n",
       "      <td>4.16</td>\n",
       "      <td>1.0</td>\n",
       "      <td>1.0</td>\n",
       "      <td>Crystal Palace</td>\n",
       "      <td>Bournemouth</td>\n",
       "    </tr>\n",
       "    <tr>\n",
       "      <th>2276</th>\n",
       "      <td>E0</td>\n",
       "      <td>2019-12-05</td>\n",
       "      <td>Liverpool</td>\n",
       "      <td>Wolves</td>\n",
       "      <td>2.0</td>\n",
       "      <td>0.0</td>\n",
       "      <td>H</td>\n",
       "      <td>1.0</td>\n",
       "      <td>0.0</td>\n",
       "      <td>H</td>\n",
       "      <td>...</td>\n",
       "      <td>1.91</td>\n",
       "      <td>2.01</td>\n",
       "      <td>1.95</td>\n",
       "      <td>1.32</td>\n",
       "      <td>5.89</td>\n",
       "      <td>9.48</td>\n",
       "      <td>1.0</td>\n",
       "      <td>1.0</td>\n",
       "      <td>Liverpool</td>\n",
       "      <td>Wolves</td>\n",
       "    </tr>\n",
       "  </tbody>\n",
       "</table>\n",
       "<p>633 rows × 69 columns</p>\n",
       "</div>"
      ]
     },
     "metadata": {},
     "execution_count": 98
    }
   ],
   "metadata": {}
  },
  {
   "cell_type": "code",
   "execution_count": 99,
   "source": [
    "df.columns"
   ],
   "outputs": [
    {
     "output_type": "execute_result",
     "data": {
      "text/plain": [
       "Index(['Div', 'Date', 'HomeTeam', 'AwayTeam', 'FTHG', 'FTAG', 'FTR', 'HTHG',\n",
       "       'HTAG', 'HTR', 'Referee', 'HS', 'AS', 'HST', 'AST', 'HF', 'AF', 'HC',\n",
       "       'AC', 'HY', 'AY', 'HR', 'AR', 'B365H', 'B365D', 'B365A', 'BWH', 'BWD',\n",
       "       'BWA', 'IWH', 'IWD', 'IWA', 'LBH', 'LBD', 'LBA', 'PSH', 'PSD', 'PSA',\n",
       "       'WHH', 'WHD', 'WHA', 'VCH', 'VCD', 'VCA', 'Bb1X2', 'BbMxH', 'BbAvH',\n",
       "       'BbMxD', 'BbAvD', 'BbMxA', 'BbAvA', 'BbOU', 'BbMx>2.5', 'BbAv>2.5',\n",
       "       'BbMx<2.5', 'BbAv<2.5', 'BbAH', 'BbAHh', 'BbMxAHH', 'BbAvAHH',\n",
       "       'BbMxAHA', 'BbAvAHA', 'PSCH', 'PSCD', 'PSCA', 'Numerical_ftr',\n",
       "       'Numerical_htr', 'ftr_winner', 'ftr_looser'],\n",
       "      dtype='object')"
      ]
     },
     "metadata": {},
     "execution_count": 99
    }
   ],
   "metadata": {}
  },
  {
   "cell_type": "code",
   "execution_count": null,
   "source": [],
   "outputs": [],
   "metadata": {}
  }
 ],
 "metadata": {
  "orig_nbformat": 4,
  "language_info": {
   "name": "python",
   "version": "3.8.10",
   "mimetype": "text/x-python",
   "codemirror_mode": {
    "name": "ipython",
    "version": 3
   },
   "pygments_lexer": "ipython3",
   "nbconvert_exporter": "python",
   "file_extension": ".py"
  },
  "kernelspec": {
   "name": "python3",
   "display_name": "Python 3.8.10 64-bit ('premier_league': venv)"
  },
  "interpreter": {
   "hash": "4c345db352e38550979c7c30640beff657515c98a6e50b2135129104abaf76a5"
  }
 },
 "nbformat": 4,
 "nbformat_minor": 2
}