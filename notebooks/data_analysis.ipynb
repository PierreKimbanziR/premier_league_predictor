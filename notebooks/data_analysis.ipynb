{
 "cells": [
  {
   "cell_type": "markdown",
   "source": [
    "# Data analysis. \n",
    "In this notebook I will collect information about the seasons 14-15 to 19-20 combined.  \n",
    "I will answer those questions : \n",
    "* Which 5 teams won the most games overall ? \n",
    "* Which 5 teams lost the most games overall ? \n",
    "* Which 5 teams won the most games away \n",
    "* which 5 teams won the most games at home ? \n",
    "* Which 5 teams lost the most games away ? \n",
    "* Which 5 teams lost the most games at home ?\n",
    "* Overall percentage of home wins ? \n",
    "* Overall percentage of away wins ? \n",
    "* Overall percentage of home losses ? \n",
    "* Overall percentage of away losses ? \n",
    "* Overall percentage of wins when trailing at half-time ? \n",
    "* Overall percetage of wins when leading at half-time ? \n",
    "* Overall percentage of losses when trailing at half-time ? \n",
    "* Overall percentage of losses when leading at half-time ? \n",
    "* Correlation between playing at home and winning the game ? \n",
    "* Correlation between playing away and winning the game ? \n",
    "* Correlation between the overall odds and the ftr ? \n"
   ],
   "metadata": {}
  },
  {
   "cell_type": "markdown",
   "source": [
    "## Import datasets and libraries"
   ],
   "metadata": {}
  },
  {
   "cell_type": "code",
   "execution_count": 13,
   "source": [
    "import pandas as pd\n",
    "import numpy as np\n",
    "import seaborn as sns"
   ],
   "outputs": [],
   "metadata": {}
  },
  {
   "cell_type": "code",
   "execution_count": 14,
   "source": [
    "df = pd.read_csv(\"../assets/data/clean_data.csv\")\n",
    "df.drop(\"Unnamed: 0\", inplace=True, axis=1)"
   ],
   "outputs": [],
   "metadata": {}
  },
  {
   "cell_type": "markdown",
   "source": [
    "## Which 5 teams won or lost the most games ? Away ? Home ? "
   ],
   "metadata": {}
  },
  {
   "cell_type": "markdown",
   "source": [
    "#### Feature engineering\n",
    "Creation of new columns to easily count the losses and wins of each teams."
   ],
   "metadata": {}
  },
  {
   "cell_type": "markdown",
   "source": [
    "##### Creation of a full time winner column"
   ],
   "metadata": {}
  },
  {
   "cell_type": "code",
   "execution_count": 44,
   "source": [
    "def get_winner(ftr):\n",
    "    if ftr.item() == \"H\":\n",
    "        return df[\"HomeTeam\"].iloc[ftr.name]\n",
    "    elif ftr.item() == \"A\":\n",
    "        return df[\"AwayTeam\"].iloc[ftr.name]\n",
    "    else :\n",
    "        return \"Draw\"\n",
    "df[\"ftr_winner\"] = df[[\"FTR\"]].apply(get_winner, axis=1)"
   ],
   "outputs": [],
   "metadata": {}
  },
  {
   "cell_type": "markdown",
   "source": [
    "##### Creation of a full time looser column"
   ],
   "metadata": {}
  },
  {
   "cell_type": "code",
   "execution_count": 48,
   "source": [
    "def get_looser(ftr):\n",
    "    if ftr.item() == \"H\":\n",
    "        return df[\"AwayTeam\"].iloc[ftr.name]\n",
    "    elif ftr.item() == \"A\":\n",
    "        return df[\"HomeTeam\"].iloc[ftr.name]\n",
    "    else :\n",
    "        return \"Draw\"\n",
    "df[\"ftr_looser\"] = df[[\"FTR\"]].apply(get_looser, axis=1)"
   ],
   "outputs": [],
   "metadata": {}
  },
  {
   "cell_type": "markdown",
   "source": [
    "#### Value count "
   ],
   "metadata": {}
  },
  {
   "cell_type": "markdown",
   "source": [
    "##### Most wins overall"
   ],
   "metadata": {}
  },
  {
   "cell_type": "code",
   "execution_count": 56,
   "source": [
    "most_wins = df[\"ftr_winner\"].value_counts(sort=True)\n",
    "most_wins.head(6)"
   ],
   "outputs": [
    {
     "output_type": "execute_result",
     "data": {
      "text/plain": [
       "Draw         547\n",
       "Man City     156\n",
       "Liverpool    139\n",
       "Chelsea      130\n",
       "Tottenham    126\n",
       "Arsenal      119\n",
       "Name: ftr_winner, dtype: int64"
      ]
     },
     "metadata": {},
     "execution_count": 56
    }
   ],
   "metadata": {}
  },
  {
   "cell_type": "markdown",
   "source": [
    "##### Most losses overall "
   ],
   "metadata": {}
  },
  {
   "cell_type": "code",
   "execution_count": 58,
   "source": [
    "most_losses = df[\"ftr_looser\"].value_counts(sort=True)\n",
    "most_losses.head(6)"
   ],
   "outputs": [
    {
     "output_type": "execute_result",
     "data": {
      "text/plain": [
       "Draw              547\n",
       "Crystal Palace    105\n",
       "Watford            92\n",
       "West Ham           91\n",
       "Bournemouth        91\n",
       "Southampton        90\n",
       "Name: ftr_looser, dtype: int64"
      ]
     },
     "metadata": {},
     "execution_count": 58
    }
   ],
   "metadata": {}
  },
  {
   "cell_type": "markdown",
   "source": [
    "##### Most home wins "
   ],
   "metadata": {}
  },
  {
   "cell_type": "code",
   "execution_count": 62,
   "source": [
    "home_wins = df.loc[df[\"FTR\"]== \"H\"]\n",
    "most_home_wins = home_wins[\"ftr_winner\"].value_counts(sort=True)\n",
    "most_home_wins.head(5)"
   ],
   "outputs": [
    {
     "output_type": "execute_result",
     "data": {
      "text/plain": [
       "Man City     86\n",
       "Arsenal      77\n",
       "Liverpool    77\n",
       "Tottenham    74\n",
       "Chelsea      71\n",
       "Name: ftr_winner, dtype: int64"
      ]
     },
     "metadata": {},
     "execution_count": 62
    }
   ],
   "metadata": {}
  },
  {
   "cell_type": "markdown",
   "source": [
    "##### Most away wins"
   ],
   "metadata": {}
  },
  {
   "cell_type": "code",
   "execution_count": 70,
   "source": [
    "away_wins = df.loc[df[\"FTR\"]== \"A\"]\n",
    "most_away_wins = away_wins[\"AwayTeam\"].value_counts(sort=True)\n",
    "most_away_wins.head(5)"
   ],
   "outputs": [
    {
     "output_type": "execute_result",
     "data": {
      "text/plain": [
       "Man City      70\n",
       "Liverpool     62\n",
       "Chelsea       59\n",
       "Tottenham     52\n",
       "Man United    50\n",
       "Name: AwayTeam, dtype: int64"
      ]
     },
     "metadata": {},
     "execution_count": 70
    }
   ],
   "metadata": {}
  },
  {
   "cell_type": "markdown",
   "source": [
    "##### Most home losses"
   ],
   "metadata": {}
  },
  {
   "cell_type": "code",
   "execution_count": 73,
   "source": [
    "home_losses = df.loc[df[\"FTR\"] == \"A\"]\n",
    "most_home_losses = home_losses[\"HomeTeam\"].value_counts(sort=True)\n",
    "most_home_losses.head(5)"
   ],
   "outputs": [
    {
     "output_type": "execute_result",
     "data": {
      "text/plain": [
       "Crystal Palace    55\n",
       "Southampton       40\n",
       "West Ham          38\n",
       "Burnley           38\n",
       "Bournemouth       36\n",
       "Name: HomeTeam, dtype: int64"
      ]
     },
     "metadata": {},
     "execution_count": 73
    }
   ],
   "metadata": {}
  },
  {
   "cell_type": "markdown",
   "source": [
    "##### Most away losses "
   ],
   "metadata": {}
  },
  {
   "cell_type": "code",
   "execution_count": 75,
   "source": [
    "away_losses = df.loc[df[\"FTR\"] == \"H\"]\n",
    "most_away_losses = away_losses[\"AwayTeam\"].value_counts(sort=True)\n",
    "most_away_losses.head(5)"
   ],
   "outputs": [
    {
     "output_type": "execute_result",
     "data": {
      "text/plain": [
       "Watford        57\n",
       "Newcastle      55\n",
       "Bournemouth    55\n",
       "Everton        54\n",
       "West Ham       53\n",
       "Name: AwayTeam, dtype: int64"
      ]
     },
     "metadata": {},
     "execution_count": 75
    }
   ],
   "metadata": {}
  },
  {
   "cell_type": "markdown",
   "source": [
    "## Overall percentage home wins, away wins, home losses, away losses"
   ],
   "metadata": {}
  },
  {
   "cell_type": "markdown",
   "source": [
    "##### Percentage of home wins and away wins"
   ],
   "metadata": {}
  },
  {
   "cell_type": "code",
   "execution_count": 83,
   "source": [
    "percentages = df[\"FTR\"].value_counts(normalize=True) *100\n",
    "percentages = percentages.to_frame()\n",
    "percentages"
   ],
   "outputs": [
    {
     "output_type": "execute_result",
     "data": {
      "text/plain": [
       "         FTR\n",
       "H  45.701754\n",
       "A  30.350877\n",
       "D  23.947368"
      ],
      "text/html": [
       "<div>\n",
       "<style scoped>\n",
       "    .dataframe tbody tr th:only-of-type {\n",
       "        vertical-align: middle;\n",
       "    }\n",
       "\n",
       "    .dataframe tbody tr th {\n",
       "        vertical-align: top;\n",
       "    }\n",
       "\n",
       "    .dataframe thead th {\n",
       "        text-align: right;\n",
       "    }\n",
       "</style>\n",
       "<table border=\"1\" class=\"dataframe\">\n",
       "  <thead>\n",
       "    <tr style=\"text-align: right;\">\n",
       "      <th></th>\n",
       "      <th>FTR</th>\n",
       "    </tr>\n",
       "  </thead>\n",
       "  <tbody>\n",
       "    <tr>\n",
       "      <th>H</th>\n",
       "      <td>45.701754</td>\n",
       "    </tr>\n",
       "    <tr>\n",
       "      <th>A</th>\n",
       "      <td>30.350877</td>\n",
       "    </tr>\n",
       "    <tr>\n",
       "      <th>D</th>\n",
       "      <td>23.947368</td>\n",
       "    </tr>\n",
       "  </tbody>\n",
       "</table>\n",
       "</div>"
      ]
     },
     "metadata": {},
     "execution_count": 83
    }
   ],
   "metadata": {}
  },
  {
   "cell_type": "markdown",
   "source": [
    "Home wins percentage  : 45.70 %.   \n",
    "\n",
    "Away win percentage : 30.35 %.   \n",
    "\n",
    "The percentages for the home losses and away losses are the same but inverted obviously.  \n",
    "\n",
    "Away losses percentage : 45.70%.  \n",
    "\n",
    "Home losses  percentage : 30.35%"
   ],
   "metadata": {}
  },
  {
   "cell_type": "markdown",
   "source": [
    "## Wins or losses when trailing or leading at half time"
   ],
   "metadata": {}
  }
 ],
 "metadata": {
  "orig_nbformat": 4,
  "language_info": {
   "name": "python",
   "version": "3.8.10",
   "mimetype": "text/x-python",
   "codemirror_mode": {
    "name": "ipython",
    "version": 3
   },
   "pygments_lexer": "ipython3",
   "nbconvert_exporter": "python",
   "file_extension": ".py"
  },
  "kernelspec": {
   "name": "python3",
   "display_name": "Python 3.8.10 64-bit ('premier_league': venv)"
  },
  "interpreter": {
   "hash": "4c345db352e38550979c7c30640beff657515c98a6e50b2135129104abaf76a5"
  }
 },
 "nbformat": 4,
 "nbformat_minor": 2
}