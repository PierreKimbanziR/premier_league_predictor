{
 "cells": [
  {
   "cell_type": "markdown",
   "source": [
    "# Preprocessing of the dataset  \n",
    "\n",
    "## Steps :\n",
    "* Merging the differents datasets into one\n",
    "* Creating a date column\n",
    "* Removing column with 70% of null values\n",
    "* Creating numerical value for the full time result"
   ],
   "metadata": {}
  },
  {
   "cell_type": "markdown",
   "source": [
    "### Merging the datasets\n",
    "Merge datasets from season 14-15 to 19-20. Season 20-21 will be kept as testing data so we leave it alone for the moment. "
   ],
   "metadata": {}
  },
  {
   "cell_type": "code",
   "execution_count": 11,
   "source": [
    "import os \n",
    "import pandas as pd\n",
    "\n",
    "\n",
    "path = \"../assets/data/\"\n",
    "def merged_df():\n",
    "    \n",
    "    initial_file = \"PL_14-15.csv\"\n",
    "    initial_df = pd.read_csv(path+initial_file)\n",
    "    files_to_append = [f for f in os.listdir(path) if f != initial_file]\n",
    "    for f in files_to_append:\n",
    "        df = pd.read_csv(path+f)\n",
    "        initial_df = initial_df.append(df)\n",
    "    return initial_df\n",
    "df = merged_df()"
   ],
   "outputs": [],
   "metadata": {}
  },
  {
   "cell_type": "code",
   "execution_count": 29,
   "source": [
    "import numpy as np"
   ],
   "outputs": [],
   "metadata": {}
  },
  {
   "cell_type": "markdown",
   "source": [
    "## Creating a date column"
   ],
   "metadata": {}
  },
  {
   "cell_type": "code",
   "execution_count": 12,
   "source": [
    "df[\"Date\"] = pd.to_datetime(df[\"Date\"])"
   ],
   "outputs": [],
   "metadata": {}
  },
  {
   "cell_type": "code",
   "execution_count": 13,
   "source": [
    "df.isnull().mean() *100"
   ],
   "outputs": [
    {
     "output_type": "execute_result",
     "data": {
      "text/plain": [
       "Div               0.021925\n",
       "Date              0.021925\n",
       "HomeTeam          0.021925\n",
       "AwayTeam          0.021925\n",
       "FTHG              0.021925\n",
       "                   ...    \n",
       "MaxCAHA          91.668494\n",
       "AvgCAHH          91.668494\n",
       "AvgCAHA          91.668494\n",
       "Numerical_htr    50.010963\n",
       "Numerical_ftr    50.010963\n",
       "Length: 132, dtype: float64"
      ]
     },
     "metadata": {},
     "execution_count": 13
    }
   ],
   "metadata": {}
  },
  {
   "cell_type": "markdown",
   "source": [
    "## Removing rows with missing values in critical columns\n",
    "We cant afford to have missing values inside of FTR, HomeTeam, AwayTeam columns. We remove the rows with missing values at those points"
   ],
   "metadata": {}
  },
  {
   "cell_type": "code",
   "execution_count": 14,
   "source": [
    "df.dropna(subset=[\"FTR\", \"HomeTeam\", \"AwayTeam\"], inplace=True, how=\"any\")"
   ],
   "outputs": [],
   "metadata": {}
  },
  {
   "cell_type": "markdown",
   "source": [
    "## Removing column with 70% of null values"
   ],
   "metadata": {}
  },
  {
   "cell_type": "code",
   "execution_count": 15,
   "source": [
    "columns_to_drop = [col for col in df.columns if df[col].isnull().mean() *100 > 75 ]\n",
    "df.drop(columns_to_drop, axis=1, inplace= True)"
   ],
   "outputs": [],
   "metadata": {}
  },
  {
   "cell_type": "markdown",
   "source": [
    "## Removing odds column with too much null values\n"
   ],
   "metadata": {}
  },
  {
   "cell_type": "markdown",
   "source": [
    "Some odds column have more null values than other. The odds are very important in the model and just replacing with the median or the mean  could have a negative effect on our predicitions. "
   ],
   "metadata": {}
  },
  {
   "cell_type": "code",
   "execution_count": 16,
   "source": [
    "odds_columns = df.iloc[:,23:]\n",
    "odds_columns.isnull().sum()\n",
    "odds_columns_to_drop = [c for c in odds_columns.columns if odds_columns[c].isnull().sum() >1]\n",
    "odds_columns.drop(odds_columns_to_drop, axis=1, inplace=True)"
   ],
   "outputs": [],
   "metadata": {}
  },
  {
   "cell_type": "markdown",
   "source": [
    "## Creating numerical value for the full time result. \n",
    "The full time result (FTR) column is a string but in order to process it later we need to encode it as a numerical value. "
   ],
   "metadata": {}
  },
  {
   "cell_type": "code",
   "execution_count": 19,
   "source": [
    "def numerize_ftr_htr(ftr):\n",
    "    if ftr == \"D\":\n",
    "        return 0\n",
    "    elif ftr == \"A\":\n",
    "        return 2\n",
    "    elif ftr == \"H\":\n",
    "        return 1\n",
    "    else :\n",
    "        return None\n",
    "df[\"Numerical_htr\"] = df[\"HTR\"].apply(numerize_ftr_htr)\n",
    "df[\"Numerical_ftr\"] = df[\"FTR\"].apply(numerize_ftr_htr)"
   ],
   "outputs": [],
   "metadata": {}
  },
  {
   "cell_type": "code",
   "execution_count": 20,
   "source": [
    "df.to_csv('../assets/data/clean_data.csv', index=None)"
   ],
   "outputs": [],
   "metadata": {}
  },
  {
   "cell_type": "markdown",
   "source": [
    "## Creating average odd for home win/draw/away win"
   ],
   "metadata": {}
  },
  {
   "cell_type": "code",
   "execution_count": 32,
   "source": [
    "home_odds  = [c for c in odds_columns if c[-1] == \"H\"]\n",
    "away_odds = [c for c in odds_columns if c[-1]==\"A\"]\n",
    "draw_odds = [c for c in odds_columns if c[-1] ==\"D\"]"
   ],
   "outputs": [],
   "metadata": {}
  },
  {
   "cell_type": "code",
   "execution_count": 30,
   "source": [
    "odds_columns[\"home_odds_mean\"] = odds_columns[home_odds].apply(np.mean, axis=1)"
   ],
   "outputs": [],
   "metadata": {}
  },
  {
   "cell_type": "code",
   "execution_count": 42,
   "source": [
    "odds_columns[\"away_odds_mean\"] = odds_columns[away_odds].apply(np.mean, axis=1)"
   ],
   "outputs": [],
   "metadata": {}
  },
  {
   "cell_type": "code",
   "execution_count": 43,
   "source": [
    "odds_columns[\"draw_odds_mean\"] = odds_columns[draw_odds].apply(np.mean, axis=1)"
   ],
   "outputs": [],
   "metadata": {}
  },
  {
   "cell_type": "code",
   "execution_count": 37,
   "source": [
    "print(away_odds)\n",
    "print(draw_odds)\n",
    "print(home_odds)"
   ],
   "outputs": [
    {
     "output_type": "stream",
     "name": "stdout",
     "text": [
      "['B365A', 'PSA', 'WHA', 'VCA', 'PSCA']\n",
      "['B365D', 'PSD', 'WHD', 'VCD', 'PSCD']\n",
      "['B365H', 'PSH', 'WHH', 'VCH', 'PSCH']\n"
     ]
    }
   ],
   "metadata": {}
  },
  {
   "cell_type": "code",
   "execution_count": 44,
   "source": [
    "odds_columns[[\"home_odds_mean\",\"away_odds_mean\", \"draw_odds_mean\"]]"
   ],
   "outputs": [
    {
     "output_type": "execute_result",
     "data": {
      "text/html": [
       "<div>\n",
       "<style scoped>\n",
       "    .dataframe tbody tr th:only-of-type {\n",
       "        vertical-align: middle;\n",
       "    }\n",
       "\n",
       "    .dataframe tbody tr th {\n",
       "        vertical-align: top;\n",
       "    }\n",
       "\n",
       "    .dataframe thead th {\n",
       "        text-align: right;\n",
       "    }\n",
       "</style>\n",
       "<table border=\"1\" class=\"dataframe\">\n",
       "  <thead>\n",
       "    <tr style=\"text-align: right;\">\n",
       "      <th></th>\n",
       "      <th>home_odds_mean</th>\n",
       "      <th>away_odds_mean</th>\n",
       "      <th>draw_odds_mean</th>\n",
       "    </tr>\n",
       "  </thead>\n",
       "  <tbody>\n",
       "    <tr>\n",
       "      <th>0</th>\n",
       "      <td>1.260</td>\n",
       "      <td>12.852</td>\n",
       "      <td>6.120</td>\n",
       "    </tr>\n",
       "    <tr>\n",
       "      <th>1</th>\n",
       "      <td>3.150</td>\n",
       "      <td>2.426</td>\n",
       "      <td>3.336</td>\n",
       "    </tr>\n",
       "    <tr>\n",
       "      <th>2</th>\n",
       "      <td>1.380</td>\n",
       "      <td>9.770</td>\n",
       "      <td>4.922</td>\n",
       "    </tr>\n",
       "    <tr>\n",
       "      <th>3</th>\n",
       "      <td>2.488</td>\n",
       "      <td>3.186</td>\n",
       "      <td>3.200</td>\n",
       "    </tr>\n",
       "    <tr>\n",
       "      <th>4</th>\n",
       "      <td>1.962</td>\n",
       "      <td>4.502</td>\n",
       "      <td>3.362</td>\n",
       "    </tr>\n",
       "    <tr>\n",
       "      <th>...</th>\n",
       "      <td>...</td>\n",
       "      <td>...</td>\n",
       "      <td>...</td>\n",
       "    </tr>\n",
       "    <tr>\n",
       "      <th>2275</th>\n",
       "      <td>1.304</td>\n",
       "      <td>10.704</td>\n",
       "      <td>5.782</td>\n",
       "    </tr>\n",
       "    <tr>\n",
       "      <th>2276</th>\n",
       "      <td>1.280</td>\n",
       "      <td>10.384</td>\n",
       "      <td>6.328</td>\n",
       "    </tr>\n",
       "    <tr>\n",
       "      <th>2277</th>\n",
       "      <td>1.410</td>\n",
       "      <td>8.222</td>\n",
       "      <td>4.898</td>\n",
       "    </tr>\n",
       "    <tr>\n",
       "      <th>2278</th>\n",
       "      <td>2.082</td>\n",
       "      <td>3.698</td>\n",
       "      <td>3.590</td>\n",
       "    </tr>\n",
       "    <tr>\n",
       "      <th>2279</th>\n",
       "      <td>2.192</td>\n",
       "      <td>3.234</td>\n",
       "      <td>3.782</td>\n",
       "    </tr>\n",
       "  </tbody>\n",
       "</table>\n",
       "<p>4560 rows × 3 columns</p>\n",
       "</div>"
      ],
      "text/plain": [
       "      home_odds_mean  away_odds_mean  draw_odds_mean\n",
       "0              1.260          12.852           6.120\n",
       "1              3.150           2.426           3.336\n",
       "2              1.380           9.770           4.922\n",
       "3              2.488           3.186           3.200\n",
       "4              1.962           4.502           3.362\n",
       "...              ...             ...             ...\n",
       "2275           1.304          10.704           5.782\n",
       "2276           1.280          10.384           6.328\n",
       "2277           1.410           8.222           4.898\n",
       "2278           2.082           3.698           3.590\n",
       "2279           2.192           3.234           3.782\n",
       "\n",
       "[4560 rows x 3 columns]"
      ]
     },
     "metadata": {},
     "execution_count": 44
    }
   ],
   "metadata": {}
  },
  {
   "cell_type": "code",
   "execution_count": 45,
   "source": [
    "odds_columns.iloc[0]"
   ],
   "outputs": [
    {
     "output_type": "execute_result",
     "data": {
      "text/plain": [
       "B365H              1.250\n",
       "B365D              6.500\n",
       "B365A             15.000\n",
       "PSH                1.260\n",
       "PSD                6.450\n",
       "PSA               14.010\n",
       "WHH                1.250\n",
       "WHD                5.500\n",
       "WHA               12.000\n",
       "VCH                1.250\n",
       "VCD                6.250\n",
       "VCA               10.500\n",
       "PSCH               1.290\n",
       "PSCD               5.900\n",
       "PSCA              12.750\n",
       "home_odds_mean     1.260\n",
       "away_odds_mean    12.852\n",
       "draw_odds_mean     6.120\n",
       "Name: 0, dtype: float64"
      ]
     },
     "metadata": {},
     "execution_count": 45
    }
   ],
   "metadata": {}
  },
  {
   "cell_type": "code",
   "execution_count": null,
   "source": [],
   "outputs": [],
   "metadata": {}
  }
 ],
 "metadata": {
  "orig_nbformat": 4,
  "language_info": {
   "name": "python",
   "version": "3.8.10",
   "mimetype": "text/x-python",
   "codemirror_mode": {
    "name": "ipython",
    "version": 3
   },
   "pygments_lexer": "ipython3",
   "nbconvert_exporter": "python",
   "file_extension": ".py"
  },
  "kernelspec": {
   "name": "python3",
   "display_name": "Python 3.8.10 64-bit ('premier_league': venv)"
  },
  "interpreter": {
   "hash": "4c345db352e38550979c7c30640beff657515c98a6e50b2135129104abaf76a5"
  }
 },
 "nbformat": 4,
 "nbformat_minor": 2
}