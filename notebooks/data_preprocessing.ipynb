{
 "cells": [
  {
   "cell_type": "markdown",
   "source": [
    "# Preprocessing of the dataset  \n",
    "\n",
    "## Steps :\n",
    "* Merging the differents datasets into one\n",
    "* Creating a date column\n",
    "* Removing column with 70% of null values\n",
    "* Creating numerical value for the full time result"
   ],
   "metadata": {}
  },
  {
   "cell_type": "markdown",
   "source": [
    "### Merging the datasets\n",
    "Merge datasets from season 14-15 to 19-20. Season 20-21 will be kept as testing data so we leave it alone for the moment. "
   ],
   "metadata": {}
  },
  {
   "cell_type": "code",
   "execution_count": 1,
   "source": [
    "import os \n",
    "import pandas as pd\n",
    "\n",
    "\n",
    "path = \"../assets/data/\"\n",
    "def merged_df():\n",
    "    \n",
    "    initial_file = \"PL_14-15.csv\"\n",
    "    initial_df = pd.read_csv(path+initial_file)\n",
    "    files_to_append = [f for f in os.listdir(path) if f != initial_file]\n",
    "    for f in files_to_append:\n",
    "        df = pd.read_csv(path+f)\n",
    "        initial_df = initial_df.append(df)\n",
    "    return initial_df\n",
    "df = merged_df()"
   ],
   "outputs": [],
   "metadata": {}
  },
  {
   "cell_type": "code",
   "execution_count": 2,
   "source": [
    "import numpy as np"
   ],
   "outputs": [],
   "metadata": {}
  },
  {
   "cell_type": "markdown",
   "source": [
    "## Creating a date column"
   ],
   "metadata": {}
  },
  {
   "cell_type": "code",
   "execution_count": 3,
   "source": [
    "df[\"Date\"] = pd.to_datetime(df[\"Date\"])"
   ],
   "outputs": [],
   "metadata": {}
  },
  {
   "cell_type": "code",
   "execution_count": 4,
   "source": [
    "df.isnull().mean() *100"
   ],
   "outputs": [
    {
     "output_type": "execute_result",
     "data": {
      "text/plain": [
       "Div               0.021925\n",
       "Date              0.021925\n",
       "HomeTeam          0.021925\n",
       "AwayTeam          0.021925\n",
       "FTHG              0.021925\n",
       "                   ...    \n",
       "MaxCAHA          91.668494\n",
       "AvgCAHH          91.668494\n",
       "AvgCAHA          91.668494\n",
       "Numerical_htr    50.010963\n",
       "Numerical_ftr    50.010963\n",
       "Length: 132, dtype: float64"
      ]
     },
     "metadata": {},
     "execution_count": 4
    }
   ],
   "metadata": {}
  },
  {
   "cell_type": "markdown",
   "source": [
    "## Removing rows with missing values in critical columns\n",
    "We cant afford to have missing values inside of FTR, HomeTeam, AwayTeam columns. We remove the rows with missing values at those points"
   ],
   "metadata": {}
  },
  {
   "cell_type": "code",
   "execution_count": 5,
   "source": [
    "df.dropna(subset=[\"FTR\", \"HomeTeam\", \"AwayTeam\"], inplace=True, how=\"any\")"
   ],
   "outputs": [],
   "metadata": {}
  },
  {
   "cell_type": "markdown",
   "source": [
    "## Removing column with 70% of null values"
   ],
   "metadata": {}
  },
  {
   "cell_type": "code",
   "execution_count": 6,
   "source": [
    "columns_to_drop = [col for col in df.columns if df[col].isnull().mean() *100 > 75 ]\n",
    "df.drop(columns_to_drop, axis=1, inplace= True)"
   ],
   "outputs": [],
   "metadata": {}
  },
  {
   "cell_type": "markdown",
   "source": [
    "## Removing odds column with too much null values\n"
   ],
   "metadata": {}
  },
  {
   "cell_type": "markdown",
   "source": [
    "Some odds column have more null values than other. The odds are very important in the model and just replacing with the median or the mean  could have a negative effect on our predicitions. "
   ],
   "metadata": {}
  },
  {
   "cell_type": "code",
   "execution_count": 7,
   "source": [
    "odds_columns = df.iloc[:,23:]\n",
    "odds_columns.isnull().sum()\n",
    "odds_columns_to_drop = [c for c in odds_columns.columns if odds_columns[c].isnull().sum() >1]\n",
    "odds_columns.drop(odds_columns_to_drop, axis=1, inplace=True)"
   ],
   "outputs": [],
   "metadata": {}
  },
  {
   "cell_type": "markdown",
   "source": [
    "## Creating numerical value for the full time result. \n",
    "The full time result (FTR) column is a string but in order to process it later we need to encode it as a numerical value. "
   ],
   "metadata": {}
  },
  {
   "cell_type": "code",
   "execution_count": 8,
   "source": [
    "def numerize_ftr_htr(ftr):\n",
    "    if ftr == \"D\":\n",
    "        return 0\n",
    "    elif ftr == \"A\":\n",
    "        return 2\n",
    "    elif ftr == \"H\":\n",
    "        return 1\n",
    "    else :\n",
    "        return None\n",
    "df[\"Numerical_htr\"] = df[\"HTR\"].apply(numerize_ftr_htr)\n",
    "df[\"Numerical_ftr\"] = df[\"FTR\"].apply(numerize_ftr_htr)"
   ],
   "outputs": [],
   "metadata": {}
  },
  {
   "cell_type": "markdown",
   "source": [
    "## Creating average odd for home win/draw/away win"
   ],
   "metadata": {}
  },
  {
   "cell_type": "code",
   "execution_count": 10,
   "source": [
    "home_odds  = [c for c in odds_columns if c[-1] == \"H\"]\n",
    "away_odds = [c for c in odds_columns if c[-1]==\"A\"]\n",
    "draw_odds = [c for c in odds_columns if c[-1] ==\"D\"]"
   ],
   "outputs": [],
   "metadata": {}
  },
  {
   "cell_type": "code",
   "execution_count": 11,
   "source": [
    "odds_columns[\"home_odds_mean\"] = odds_columns[home_odds].apply(np.mean, axis=1)"
   ],
   "outputs": [],
   "metadata": {}
  },
  {
   "cell_type": "code",
   "execution_count": 12,
   "source": [
    "odds_columns[\"away_odds_mean\"] = odds_columns[away_odds].apply(np.mean, axis=1)"
   ],
   "outputs": [],
   "metadata": {}
  },
  {
   "cell_type": "code",
   "execution_count": 13,
   "source": [
    "odds_columns[\"draw_odds_mean\"] = odds_columns[draw_odds].apply(np.mean, axis=1)"
   ],
   "outputs": [],
   "metadata": {}
  },
  {
   "cell_type": "code",
   "execution_count": 17,
   "source": [
    "odds_mean = odds_columns[[\"home_odds_mean\", \"away_odds_mean\",\"draw_odds_mean\"]]"
   ],
   "outputs": [],
   "metadata": {}
  },
  {
   "cell_type": "code",
   "execution_count": 20,
   "source": [
    "df.drop(['B365H', 'B365D', 'B365A', 'BWH', 'BWD',\n",
    "       'BWA', 'IWH', 'IWD', 'IWA', 'LBH', 'LBD', 'LBA', 'PSH', 'PSD', 'PSA',\n",
    "       'WHH', 'WHD', 'WHA', 'VCH', 'VCD', 'VCA', 'Bb1X2', 'BbMxH', 'BbAvH',\n",
    "       'BbMxD', 'BbAvD', 'BbMxA', 'BbAvA', 'BbOU', 'BbMx>2.5', 'BbAv>2.5',\n",
    "       'BbMx<2.5', 'BbAv<2.5', 'BbAH', 'BbAHh', 'BbMxAHH', 'BbAvAHH',\n",
    "       'BbMxAHA', 'BbAvAHA', 'PSCH', 'PSCD', 'PSCA'], axis=1, inplace=True)"
   ],
   "outputs": [],
   "metadata": {}
  },
  {
   "cell_type": "code",
   "execution_count": 22,
   "source": [
    "new_df = pd.concat([df, odds_columns], axis=1)"
   ],
   "outputs": [],
   "metadata": {}
  },
  {
   "cell_type": "code",
   "execution_count": 24,
   "source": [
    "new_df.to_csv('assets/data/clean_data.csv', index=None)"
   ],
   "outputs": [
    {
     "output_type": "execute_result",
     "data": {
      "text/plain": [
       "Index(['Div', 'Date', 'HomeTeam', 'AwayTeam', 'FTHG', 'FTAG', 'FTR', 'HTHG',\n",
       "       'HTAG', 'HTR', 'Referee', 'HS', 'AS', 'HST', 'AST', 'HF', 'AF', 'HC',\n",
       "       'AC', 'HY', 'AY', 'HR', 'AR', 'Numerical_htr', 'Numerical_ftr', 'B365H',\n",
       "       'B365D', 'B365A', 'PSH', 'PSD', 'PSA', 'WHH', 'WHD', 'WHA', 'VCH',\n",
       "       'VCD', 'VCA', 'PSCH', 'PSCD', 'PSCA', 'home_odds_mean',\n",
       "       'away_odds_mean', 'draw_odds_mean'],\n",
       "      dtype='object')"
      ]
     },
     "metadata": {},
     "execution_count": 24
    }
   ],
   "metadata": {}
  },
  {
   "cell_type": "code",
   "execution_count": null,
   "source": [],
   "outputs": [],
   "metadata": {}
  }
 ],
 "metadata": {
  "orig_nbformat": 4,
  "language_info": {
   "name": "python",
   "version": "3.8.10",
   "mimetype": "text/x-python",
   "codemirror_mode": {
    "name": "ipython",
    "version": 3
   },
   "pygments_lexer": "ipython3",
   "nbconvert_exporter": "python",
   "file_extension": ".py"
  },
  "kernelspec": {
   "name": "python3",
   "display_name": "Python 3.8.10 64-bit ('premier_league': venv)"
  },
  "interpreter": {
   "hash": "4c345db352e38550979c7c30640beff657515c98a6e50b2135129104abaf76a5"
  }
 },
 "nbformat": 4,
 "nbformat_minor": 2
}