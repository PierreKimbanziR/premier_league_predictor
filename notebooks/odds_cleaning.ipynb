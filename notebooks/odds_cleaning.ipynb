{
 "cells": [
  {
   "cell_type": "code",
   "execution_count": 1,
   "source": [
    "import pandas as pd\n",
    "\n",
    "df = pd.read_csv('../assets/data/clean_data.csv')"
   ],
   "outputs": [],
   "metadata": {}
  },
  {
   "cell_type": "code",
   "execution_count": 13,
   "source": [
    "odds_columns = new_df.iloc[:,23:]\n",
    "odds_columns.isnull().sum()\n"
   ],
   "outputs": [
    {
     "output_type": "execute_result",
     "data": {
      "text/plain": [
       "B365H         0\n",
       "B365D         0\n",
       "B365A         0\n",
       "BWH           1\n",
       "BWD           1\n",
       "BWA           1\n",
       "IWH           1\n",
       "IWD           1\n",
       "IWA           1\n",
       "LBH         760\n",
       "LBD         760\n",
       "LBA         760\n",
       "PSH           0\n",
       "PSD           0\n",
       "PSA           0\n",
       "WHH           0\n",
       "WHD           0\n",
       "WHA           0\n",
       "VCH           0\n",
       "VCD           0\n",
       "VCA           0\n",
       "Bb1X2       380\n",
       "BbMxH       380\n",
       "BbAvH       380\n",
       "BbMxD       380\n",
       "BbAvD       380\n",
       "BbMxA       380\n",
       "BbAvA       380\n",
       "BbOU        380\n",
       "BbMx>2.5    380\n",
       "BbAv>2.5    380\n",
       "BbMx<2.5    380\n",
       "BbAv<2.5    380\n",
       "BbAH        380\n",
       "BbAHh       380\n",
       "BbMxAHH     380\n",
       "BbAvAHH     380\n",
       "BbMxAHA     380\n",
       "BbAvAHA     380\n",
       "PSCH          0\n",
       "PSCD          0\n",
       "PSCA          0\n",
       "dtype: int64"
      ]
     },
     "metadata": {},
     "execution_count": 13
    }
   ],
   "metadata": {}
  },
  {
   "cell_type": "code",
   "execution_count": 16,
   "source": [
    "odds_columns_to_drop = [c for c in odds_columns.columns if odds_columns[c].isnull().sum() >1]\n",
    "odds_columns.drop(odds_columns_to_drop, axis=1, inplace=True)"
   ],
   "outputs": [],
   "metadata": {}
  },
  {
   "cell_type": "code",
   "execution_count": 8,
   "source": [
    "new_df = df.drop([\"Numerical_htr\", \"Numerical_ftr\"], axis=1)"
   ],
   "outputs": [],
   "metadata": {}
  },
  {
   "cell_type": "code",
   "execution_count": null,
   "source": [],
   "outputs": [],
   "metadata": {}
  }
 ],
 "metadata": {
  "orig_nbformat": 4,
  "language_info": {
   "name": "python",
   "version": "3.8.10",
   "mimetype": "text/x-python",
   "codemirror_mode": {
    "name": "ipython",
    "version": 3
   },
   "pygments_lexer": "ipython3",
   "nbconvert_exporter": "python",
   "file_extension": ".py"
  },
  "kernelspec": {
   "name": "python3",
   "display_name": "Python 3.8.10 64-bit ('premier_league': venv)"
  },
  "interpreter": {
   "hash": "4c345db352e38550979c7c30640beff657515c98a6e50b2135129104abaf76a5"
  }
 },
 "nbformat": 4,
 "nbformat_minor": 2
}