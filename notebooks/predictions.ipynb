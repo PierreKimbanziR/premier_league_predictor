{
  "nbformat": 4,
  "nbformat_minor": 0,
  "metadata": {
    "orig_nbformat": 4,
    "language_info": {
      "name": "python",
      "version": "3.8.10",
      "mimetype": "text/x-python",
      "codemirror_mode": {
        "name": "ipython",
        "version": 3
      },
      "pygments_lexer": "ipython3",
      "nbconvert_exporter": "python",
      "file_extension": ".py"
    },
    "kernelspec": {
      "name": "python3",
      "display_name": "Python 3.8.10 64-bit ('premier_league': venv)"
    },
    "interpreter": {
      "hash": "4c345db352e38550979c7c30640beff657515c98a6e50b2135129104abaf76a5"
    },
    "colab": {
      "name": "predictions.ipynb",
      "provenance": []
    }
  },
  "cells": [
    {
      "cell_type": "markdown",
      "metadata": {
        "id": "rw8dWj7VWFFB"
      },
      "source": [
        "# Predictions\n",
        "### Steps : \n",
        "* Train multiple models on the dataset  \n",
        "* Evaluate them  \n",
        "* Select the best one "
      ]
    },
    {
      "cell_type": "markdown",
      "metadata": {
        "id": "zCWvcyakWFFC"
      },
      "source": [
        ""
      ]
    },
    {
      "cell_type": "markdown",
      "metadata": {
        "id": "MmoyKuf8WFFC"
      },
      "source": [
        "## Importing dataset and libraries"
      ]
    },
    {
      "cell_type": "code",
      "metadata": {
        "id": "AMeUN4h2WFFD"
      },
      "source": [
        "import pandas as pd\n",
        "### Preprocessing libraries\n",
        "from sklearn.pipeline import make_pipeline\n",
        "from sklearn.preprocessing import OneHotEncoder, StandardScaler\n",
        "from sklearn.compose import make_column_transformer\n",
        "from sklearn.impute import SimpleImputer\n",
        "from sklearn.model_selection import train_test_split\n",
        "### Models\n",
        "from xgboost import XGBClassifier\n",
        "from sklearn.linear_model import LogisticRegression\n",
        "from sklearn.tree import DecisionTreeClassifier\n",
        "df = pd.read_csv('/content/clean_data.csv')"
      ],
      "execution_count": 56,
      "outputs": []
    },
    {
      "cell_type": "markdown",
      "metadata": {
        "id": "QVT9duqqWFFE"
      },
      "source": [
        "## Prepare data for the training"
      ]
    },
    {
      "cell_type": "markdown",
      "metadata": {
        "id": "36VHRu9nWFFE"
      },
      "source": [
        "### Split X and y"
      ]
    },
    {
      "cell_type": "code",
      "metadata": {
        "id": "7HTlEmBZWFFF"
      },
      "source": [
        "X = df.drop([\"Div\",\"Date\",\"FTR\", \"FTHG\", \"FTAG\", \"HTHG\", \"HTAG\", \"HTR\", \"HS\", \"AS\", \"AST\", \"HF\", \"AF\", \"HC\",'AC', 'HY', 'AY', 'HR', 'AR', \"Numerical_ftr\", \"Numerical_htr\"], axis=1)\n",
        "y = df[\"FTR\"]"
      ],
      "execution_count": 65,
      "outputs": []
    },
    {
      "cell_type": "markdown",
      "metadata": {
        "id": "iv1YjrS4WFFF"
      },
      "source": [
        "Establish categorical columns and numerical columns"
      ]
    },
    {
      "cell_type": "code",
      "metadata": {
        "id": "K9jf_r2ueBt-"
      },
      "source": [
        "categorical_features = [col for col in X_train.select_dtypes(include='object')]\n",
        "numerical_features = [col for col in X_train.select_dtypes(include='float64')]"
      ],
      "execution_count": 66,
      "outputs": []
    },
    {
      "cell_type": "markdown",
      "metadata": {
        "id": "EH8mmOBgWFFG"
      },
      "source": [
        "Instantiate preprocessing pipelines"
      ]
    },
    {
      "cell_type": "code",
      "metadata": {
        "id": "_qoxjAE-WFFG"
      },
      "source": [
        "num_pipeline = make_pipeline(SimpleImputer(strategy=\"median\"), StandardScaler())\n",
        "cat_pipeline = make_pipeline(SimpleImputer(strategy=\"most_frequent\"), OneHotEncoder(handle_unknown=\"ignore\"))\n",
        "full_pipeline = make_column_transformer((num_pipeline, numerical_features), (cat_pipeline, categorical_features))"
      ],
      "execution_count": 67,
      "outputs": []
    },
    {
      "cell_type": "markdown",
      "metadata": {
        "id": "NsEnKPUAWFFH"
      },
      "source": [
        "Split train/test data"
      ]
    },
    {
      "cell_type": "code",
      "metadata": {
        "id": "h7Ea8Op3WFFH"
      },
      "source": [
        "X_train, X_test, y_train, y_test = train_test_split(X,y, test_size=0.2, random_state=42)"
      ],
      "execution_count": 68,
      "outputs": []
    },
    {
      "cell_type": "markdown",
      "metadata": {
        "id": "H-H3xjhTXLAo"
      },
      "source": [
        "## Training the models"
      ]
    },
    {
      "cell_type": "code",
      "metadata": {
        "id": "ZQ4U-4ByYACs"
      },
      "source": [
        "log_reg = LogisticRegression(max_iter=500)\n",
        "logistic_regression = make_pipeline(full_pipeline, log_reg)\n",
        "\n",
        "xgb = XGBClassifier(n_estimators=100)\n",
        "xgb_model = make_pipeline(full_pipeline, xgb)\n",
        "\n",
        "decision_tree = DecisionTreeClassifier()\n",
        "decision_model = make_pipeline(full_pipeline, decision_tree)\n",
        "\n",
        "models = [(xgb_model, \"xgb\"), (logistic_regression, \"logistic_regression\")]"
      ],
      "execution_count": 93,
      "outputs": []
    },
    {
      "cell_type": "code",
      "metadata": {
        "id": "gu-LTaJxZBEf",
        "outputId": "2bbb15d9-c8c9-4576-aa96-746bceff70b4",
        "colab": {
          "base_uri": "https://localhost:8080/"
        }
      },
      "source": [
        "for model in models : \n",
        "  model[0].fit(X_train, y_train)\n",
        "  score = model[0].score(X_test, y_test)\n",
        "  print(score)\n",
        "  print(model[1])"
      ],
      "execution_count": 94,
      "outputs": [
        {
          "output_type": "stream",
          "text": [
            "0.5482456140350878\n",
            "xgb\n",
            "0.5394736842105263\n",
            "logistic_regression\n"
          ],
          "name": "stdout"
        }
      ]
    },
    {
      "cell_type": "code",
      "metadata": {
        "id": "-4h1AdQYbRvG"
      },
      "source": [
        ""
      ],
      "execution_count": null,
      "outputs": []
    }
  ]
}