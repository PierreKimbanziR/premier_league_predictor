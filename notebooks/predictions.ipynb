{
 "cells": [
  {
   "cell_type": "markdown",
   "source": [
    "# Predictions\n",
    "### Steps : \n",
    "* Train multiple models on the dataset  \n",
    "* Evaluate them  \n",
    "* Select the best one "
   ],
   "metadata": {}
  },
  {
   "cell_type": "markdown",
   "source": [],
   "metadata": {}
  },
  {
   "cell_type": "markdown",
   "source": [
    "## Importing dataset and libraries"
   ],
   "metadata": {}
  },
  {
   "cell_type": "code",
   "execution_count": 2,
   "source": [
    "import pandas as pd\n",
    "from xgboost import XGBClassifier\n",
    "from sklearn.pipeline import make_pipeline\n",
    "from sklearn.preprocessing import OneHotEncoder, StandardScaler\n",
    "from sklearn.compose import make_column_transformer\n",
    "from sklearn.impute import SimpleImputer\n",
    "\n",
    "df = pd.read_csv('../assets/data/clean_data.csv')"
   ],
   "outputs": [],
   "metadata": {}
  },
  {
   "cell_type": "markdown",
   "source": [
    "## Prepare data for the training"
   ],
   "metadata": {}
  },
  {
   "cell_type": "code",
   "execution_count": 3,
   "source": [
    "X = df.drop([\"Div\",\"Date\",\"FTR\", \"FTHG\", \"FTAG\", \"HTHG\", \"HTAG\", \"HTR\", \"HS\", \"AS\", \"AST\", \"HF\", \"AF\", \"HC\",'AC', 'HY', 'AY', 'HR', 'AR', \"Numerical_ftr\", \"Numerical_htr\"], axis=1)\n",
    "y = df[\"FTR\"]"
   ],
   "outputs": [],
   "metadata": {}
  },
  {
   "cell_type": "code",
   "execution_count": 4,
   "source": [
    "categorical_features = [col for col in X.select_dtypes(include='object')]\n",
    "numerical_features = [col for col in X.select_dtypes(include='float64')]"
   ],
   "outputs": [],
   "metadata": {}
  },
  {
   "cell_type": "code",
   "execution_count": null,
   "source": [
    "num_pipeline = make_pipeline(SimpleImputer(strategy=\"median\"), StandardScaler())\n",
    "cat_pipeline = make_pipeline(SimpleImputer(strategy=\"most_frequent\"), OneHotEncoder(handle_unknown=\"ignore\"))\n",
    "full_pipeline = make_column_transformer((num_pipeline, numerical_features), (cat_pipeline, categorical_features))"
   ],
   "outputs": [],
   "metadata": {}
  },
  {
   "cell_type": "code",
   "execution_count": null,
   "source": [
    "X = full_pipeline.fit_transform(X)\n",
    "encoder = OneHotEncoder(handle_unknown=\"ignore\")"
   ],
   "outputs": [],
   "metadata": {}
  },
  {
   "cell_type": "code",
   "execution_count": null,
   "source": [
    "X_train, X_test, y_train, y_test = train_test_split(X,y, test_size=0.2, random_state=42)"
   ],
   "outputs": [],
   "metadata": {}
  }
 ],
 "metadata": {
  "orig_nbformat": 4,
  "language_info": {
   "name": "python",
   "version": "3.8.10",
   "mimetype": "text/x-python",
   "codemirror_mode": {
    "name": "ipython",
    "version": 3
   },
   "pygments_lexer": "ipython3",
   "nbconvert_exporter": "python",
   "file_extension": ".py"
  },
  "kernelspec": {
   "name": "python3",
   "display_name": "Python 3.8.10 64-bit ('premier_league': venv)"
  },
  "interpreter": {
   "hash": "4c345db352e38550979c7c30640beff657515c98a6e50b2135129104abaf76a5"
  }
 },
 "nbformat": 4,
 "nbformat_minor": 2
}