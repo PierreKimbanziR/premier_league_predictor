{
  "nbformat": 4,
  "nbformat_minor": 0,
  "metadata": {
    "orig_nbformat": 4,
    "language_info": {
      "name": "python",
      "version": "3.8.10",
      "mimetype": "text/x-python",
      "codemirror_mode": {
        "name": "ipython",
        "version": 3
      },
      "pygments_lexer": "ipython3",
      "nbconvert_exporter": "python",
      "file_extension": ".py"
    },
    "kernelspec": {
      "name": "python3",
      "display_name": "Python 3.8.10 64-bit ('premier_league': venv)"
    },
    "interpreter": {
      "hash": "4c345db352e38550979c7c30640beff657515c98a6e50b2135129104abaf76a5"
    },
    "colab": {
      "name": "predictions.ipynb",
      "provenance": []
    }
  },
  "cells": [
    {
      "cell_type": "markdown",
      "metadata": {
        "id": "rw8dWj7VWFFB"
      },
      "source": [
        "# Predictions\n",
        "### Steps : \n",
        "* Train multiple models on the dataset  \n",
        "* Evaluate them  \n",
        "* Select the bests models\n",
        "* Hyperparameter tuning\n",
        "* Ensemble training"
      ]
    },
    {
      "cell_type": "markdown",
      "metadata": {
        "id": "MmoyKuf8WFFC"
      },
      "source": [
        "## Importing dataset and libraries"
      ]
    },
    {
      "cell_type": "code",
      "metadata": {
        "id": "AMeUN4h2WFFD"
      },
      "source": [
        "import pandas as pd\n",
        "import numpy as np\n",
        "### Preprocessing libraries\n",
        "from sklearn.pipeline import make_pipeline\n",
        "from sklearn.preprocessing import OneHotEncoder, StandardScaler\n",
        "from sklearn.compose import make_column_transformer\n",
        "from sklearn.impute import SimpleImputer\n",
        "from sklearn.model_selection import train_test_split\n",
        "### Models\n",
        "from xgboost import XGBClassifier\n",
        "from sklearn.linear_model import LogisticRegression\n",
        "from sklearn.tree import DecisionTreeClassifier\n",
        "df = pd.read_csv('/content/clean_data.csv')\n",
        "\n",
        "### Hyperparameter tuning\n",
        "from sklearn.model_selection import GridSearchCV, RandomizedSearchCV"
      ],
      "execution_count": 123,
      "outputs": []
    },
    {
      "cell_type": "markdown",
      "metadata": {
        "id": "QVT9duqqWFFE"
      },
      "source": [
        "## Prepare data for the training\n",
        "\n",
        "\n"
      ]
    },
    {
      "cell_type": "markdown",
      "metadata": {
        "id": "36VHRu9nWFFE"
      },
      "source": [
        "### Split X and y"
      ]
    },
    {
      "cell_type": "code",
      "metadata": {
        "id": "7HTlEmBZWFFF"
      },
      "source": [
        "X = df.drop([\"Div\",\"Date\",\"FTR\", \"FTHG\", \"FTAG\", \"HTHG\", \"HTAG\", \"HTR\", \"HS\", \"AS\", \"AST\", \"HF\", \"AF\", \"HC\",'AC', 'HY', 'AY', 'HR', 'AR', \"Numerical_ftr\", \"Numerical_htr\"], axis=1)\n",
        "y = df[\"FTR\"]"
      ],
      "execution_count": 65,
      "outputs": []
    },
    {
      "cell_type": "markdown",
      "metadata": {
        "id": "iv1YjrS4WFFF"
      },
      "source": [
        "Establish categorical columns and numerical columns"
      ]
    },
    {
      "cell_type": "code",
      "metadata": {
        "id": "K9jf_r2ueBt-"
      },
      "source": [
        "categorical_features = [col for col in X_train.select_dtypes(include='object')]\n",
        "numerical_features = [col for col in X_train.select_dtypes(include='float64')]"
      ],
      "execution_count": 66,
      "outputs": []
    },
    {
      "cell_type": "markdown",
      "metadata": {
        "id": "EH8mmOBgWFFG"
      },
      "source": [
        "Instantiate preprocessing pipelines"
      ]
    },
    {
      "cell_type": "code",
      "metadata": {
        "id": "_qoxjAE-WFFG"
      },
      "source": [
        "num_pipeline = make_pipeline(SimpleImputer(strategy=\"median\"), StandardScaler())\n",
        "cat_pipeline = make_pipeline(SimpleImputer(strategy=\"most_frequent\"), OneHotEncoder(handle_unknown=\"ignore\"))\n",
        "full_pipeline = make_column_transformer((num_pipeline, numerical_features), (cat_pipeline, categorical_features))"
      ],
      "execution_count": 67,
      "outputs": []
    },
    {
      "cell_type": "markdown",
      "metadata": {
        "id": "NsEnKPUAWFFH"
      },
      "source": [
        "Split train/test data"
      ]
    },
    {
      "cell_type": "code",
      "metadata": {
        "id": "h7Ea8Op3WFFH"
      },
      "source": [
        "X_train, X_test, y_train, y_test = train_test_split(X,y, test_size=0.2, random_state=42)"
      ],
      "execution_count": 68,
      "outputs": []
    },
    {
      "cell_type": "markdown",
      "metadata": {
        "id": "H-H3xjhTXLAo"
      },
      "source": [
        "## Training the models"
      ]
    },
    {
      "cell_type": "code",
      "metadata": {
        "id": "ZQ4U-4ByYACs"
      },
      "source": [
        "log_reg = LogisticRegression(max_iter=500)\n",
        "logistic_regression = make_pipeline(full_pipeline, log_reg)\n",
        "\n",
        "xgb = XGBClassifier(n_estimators=100)\n",
        "xgb_model = make_pipeline(full_pipeline, xgb)\n",
        "\n",
        "decision_tree = DecisionTreeClassifier(max_depth=20, min_samples_split=13)\n",
        "decision_model = make_pipeline(full_pipeline, decision_tree)\n",
        "\n",
        "models = [(xgb_model, \"xgb\"), (logistic_regression, \"logistic_regression\"), (decision_model, \"decision tree\")]"
      ],
      "execution_count": 103,
      "outputs": []
    },
    {
      "cell_type": "code",
      "metadata": {
        "colab": {
          "base_uri": "https://localhost:8080/"
        },
        "id": "gu-LTaJxZBEf",
        "outputId": "97d9709e-7078-481c-e562-d0d4a9873d5f"
      },
      "source": [
        "for model in models : \n",
        "  model[0].fit(X_train, y_train)\n",
        "  score = model[0].score(X_test, y_test)\n",
        "  print(score)\n",
        "  print(model[1])"
      ],
      "execution_count": 104,
      "outputs": [
        {
          "output_type": "stream",
          "text": [
            "0.5482456140350878\n",
            "xgb\n",
            "0.5394736842105263\n",
            "logistic_regression\n",
            "0.4451754385964912\n",
            "decision tree\n"
          ],
          "name": "stdout"
        }
      ]
    },
    {
      "cell_type": "markdown",
      "metadata": {
        "id": "fwNoiHQSwrp8"
      },
      "source": [
        "The best models are XGB and logistic regression"
      ]
    },
    {
      "cell_type": "markdown",
      "metadata": {
        "id": "aR4dc2i8wxpi"
      },
      "source": [
        "## Hyperparameter tuning with grid-search"
      ]
    },
    {
      "cell_type": "markdown",
      "metadata": {
        "id": "8dFSFoJBzKnA"
      },
      "source": [
        "#### Logistic regression gridsearch"
      ]
    },
    {
      "cell_type": "code",
      "metadata": {
        "id": "_OE0R5R5w4Jm"
      },
      "source": [
        "param_grid = [\n",
        "              {\"logisticregression__penalty\" : [\"l1\", \"l2\", \"elasticnet\"], \n",
        "               \"logisticregression__solver\": [\"newton-cg\", \"lbfgs\", \"liblinear\", \"sag\", \"sag \"], \n",
        "               \"logisticregression__C\":[100, 10, 1.0, 0.1, 0.01], \"logisticregression__max_iter\":[500]}\n",
        "]\n",
        "log_model = LogisticRegression()\n",
        "logistic_model = make_pipeline(full_pipeline, log_model)\n",
        "grid_search = GridSearchCV(logistic_model, param_grid, cv=10)\n",
        "grid_search.fit(X_train, y_train)\n"
      ],
      "execution_count": null,
      "outputs": []
    },
    {
      "cell_type": "code",
      "metadata": {
        "colab": {
          "base_uri": "https://localhost:8080/"
        },
        "id": "cKlyDGBP1JSQ",
        "outputId": "2ed594ed-b261-4c32-ba58-134b48f49d05"
      },
      "source": [
        "grid_search.best_score_"
      ],
      "execution_count": 118,
      "outputs": [
        {
          "output_type": "execute_result",
          "data": {
            "text/plain": [
              "0.5822134150003002"
            ]
          },
          "metadata": {},
          "execution_count": 118
        }
      ]
    },
    {
      "cell_type": "code",
      "metadata": {
        "colab": {
          "base_uri": "https://localhost:8080/"
        },
        "id": "8ZEwxkmY5fKs",
        "outputId": "b523e766-4eb3-468d-8fab-d09979b1f7f5"
      },
      "source": [
        "grid_search.best_params_"
      ],
      "execution_count": 119,
      "outputs": [
        {
          "output_type": "execute_result",
          "data": {
            "text/plain": [
              "{'logisticregression__C': 0.01,\n",
              " 'logisticregression__max_iter': 500,\n",
              " 'logisticregression__penalty': 'l1',\n",
              " 'logisticregression__solver': 'liblinear'}"
            ]
          },
          "metadata": {},
          "execution_count": 119
        }
      ]
    },
    {
      "cell_type": "code",
      "metadata": {
        "id": "jQisg1ur5yTr"
      },
      "source": [
        "best_linear_regression = LogisticRegression(C=0.01, max_iter=500, penalty='l1', solver=\"liblinear\")"
      ],
      "execution_count": 120,
      "outputs": []
    },
    {
      "cell_type": "markdown",
      "metadata": {
        "id": "KDUFPoPW6E05"
      },
      "source": [
        "#### Xgboost gridsearch\n"
      ]
    },
    {
      "cell_type": "code",
      "metadata": {
        "colab": {
          "base_uri": "https://localhost:8080/"
        },
        "id": "bgyB2a5-6IOh",
        "outputId": "f07ee606-2e29-4ba1-b50a-8565670b51f1"
      },
      "source": [
        "params = { 'xgbclassifier__max_depth': [3, 5, 6, 10, 15, 20, 25, 30],\n",
        "           'xgbclassifier__learning_rate': [0.01, 0.1, 0.2, 0.3],\n",
        "           'xgbclassifier__subsample': np.arange(0.5, 1.0, 0.1),\n",
        "           'xgbclassifier__colsample_bytree': np.arange(0.4, 1.0, 0.1),\n",
        "           'xgbclassifier__colsample_bylevel': np.arange(0.4, 1.0, 0.1),\n",
        "           'xgbclassifier__n_estimators': [100,300,400,500,600, 700, 800, 1000]}\n",
        "xgb = XGBClassifier()\n",
        "xgb_grid_model = make_pipeline(full_pipeline, xgb)\n",
        "random_grid = RandomizedSearchCV(xgb_grid_model, params, cv=10)\n",
        "random_grid.fit(X_train, y_train)"
      ],
      "execution_count": 128,
      "outputs": [
        {
          "output_type": "execute_result",
          "data": {
            "text/plain": [
              "RandomizedSearchCV(cv=10, error_score=nan,\n",
              "                   estimator=Pipeline(memory=None,\n",
              "                                      steps=[('columntransformer',\n",
              "                                              ColumnTransformer(n_jobs=None,\n",
              "                                                                remainder='drop',\n",
              "                                                                sparse_threshold=0.3,\n",
              "                                                                transformer_weights=None,\n",
              "                                                                transformers=[('pipeline-1',\n",
              "                                                                               Pipeline(memory=None,\n",
              "                                                                                        steps=[('simpleimputer',\n",
              "                                                                                                SimpleImputer(add_indicator=False,\n",
              "                                                                                                              copy=True,\n",
              "                                                                                                              fill_value=None,\n",
              "                                                                                                              missing_values=nan,\n",
              "                                                                                                              strat...\n",
              "                                        'xgbclassifier__colsample_bytree': array([0.4, 0.5, 0.6, 0.7, 0.8, 0.9]),\n",
              "                                        'xgbclassifier__learning_rate': [0.01,\n",
              "                                                                         0.1,\n",
              "                                                                         0.2,\n",
              "                                                                         0.3],\n",
              "                                        'xgbclassifier__max_depth': [3, 5, 6,\n",
              "                                                                     10, 15, 20,\n",
              "                                                                     25, 30],\n",
              "                                        'xgbclassifier__n_estimators': [100,\n",
              "                                                                        300,\n",
              "                                                                        400,\n",
              "                                                                        500,\n",
              "                                                                        600,\n",
              "                                                                        700,\n",
              "                                                                        800,\n",
              "                                                                        1000],\n",
              "                                        'xgbclassifier__subsample': array([0.5, 0.6, 0.7, 0.8, 0.9])},\n",
              "                   pre_dispatch='2*n_jobs', random_state=None, refit=True,\n",
              "                   return_train_score=False, scoring=None, verbose=0)"
            ]
          },
          "metadata": {},
          "execution_count": 128
        }
      ]
    },
    {
      "cell_type": "code",
      "metadata": {
        "colab": {
          "base_uri": "https://localhost:8080/"
        },
        "id": "HFXSGXwP-NEv",
        "outputId": "fae7a3de-bedc-47f7-8ce1-9a458e49b393"
      },
      "source": [
        "random_grid.best_params_"
      ],
      "execution_count": 130,
      "outputs": [
        {
          "output_type": "execute_result",
          "data": {
            "text/plain": [
              "{'xgbclassifier__colsample_bylevel': 0.6,\n",
              " 'xgbclassifier__colsample_bytree': 0.8999999999999999,\n",
              " 'xgbclassifier__learning_rate': 0.01,\n",
              " 'xgbclassifier__max_depth': 3,\n",
              " 'xgbclassifier__n_estimators': 300,\n",
              " 'xgbclassifier__subsample': 0.7999999999999999}"
            ]
          },
          "metadata": {},
          "execution_count": 130
        }
      ]
    },
    {
      "cell_type": "code",
      "metadata": {
        "id": "tLKna0QhP8_G"
      },
      "source": [
        "best_xgb_model = XGBClassifier(colsample_bylevel=0.6, \n",
        "                               colsample_bytree=0.8999999999999999, \n",
        "                               learning_rate=0.01, max_depth=3, \n",
        "                               n_estimators=300, \n",
        "                               subsample=0.7999999999999999)"
      ],
      "execution_count": 132,
      "outputs": []
    },
    {
      "cell_type": "markdown",
      "metadata": {
        "id": "DT762srYQgvd"
      },
      "source": [
        "## Ensemble training for the best models\n",
        "* VotingClassifier with XGBClassifier and LogisticRegression\n",
        "* BaggingClassifier With XGBClassifier / BaggingClassifier with LogisticRegression"
      ]
    },
    {
      "cell_type": "code",
      "metadata": {
        "id": "Or5HwzN-Ql4I"
      },
      "source": [
        ""
      ],
      "execution_count": null,
      "outputs": []
    }
  ]
}